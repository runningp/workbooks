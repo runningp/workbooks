{
 "cells": [
  {
   "cell_type": "code",
   "execution_count": 9,
   "metadata": {},
   "outputs": [],
   "source": [
    "import pandas as pd\n",
    "import pymssql\n",
    "import pymysql\n",
    "import sys\n",
    "import hashlib\n",
    "sys.path.append('/Users/yuming/Github/helios/helios/app')\n",
    "from common.log import EXCEPT, set_log_cate, def_log_cates, cust_log_cates\n",
    "import utils.log as logging\n",
    "from common.nlp.word_normalizer import Normalizer"
   ]
  },
  {
   "cell_type": "code",
   "execution_count": 6,
   "metadata": {},
   "outputs": [],
   "source": [
    "CONN_FUNC = {'mysql': pymysql.connect, 'mssql': pymssql.connect}\n",
    "\n",
    "SERVER = {'mysql': {'ip': '192.168.7.74',\n",
    "                    'username': 'root',\n",
    "                    'pwd': 'Helios123',\n",
    "                    'port': 3306},\n",
    "          'mssql': {'ip': '192.168.7.155',\n",
    "                    'username': 'SA',\n",
    "                    'pwd': 'Helios123',\n",
    "                    'port': 1433}\n",
    "          }\n",
    "logging.setup(logfile='/Users/yuming/log/form_norm.log')\n",
    "set_log_cate(def_log_cates | cust_log_cates)"
   ]
  },
  {
   "cell_type": "code",
   "execution_count": 3,
   "metadata": {},
   "outputs": [],
   "source": [
    "sql = 'mssql'\n",
    "dbname = 'hr_pii'\n",
    "conn = CONN_FUNC.get(sql)(SERVER[sql]['ip'], SERVER[sql]['username'], SERVER[sql]['pwd'], dbname)"
   ]
  },
  {
   "cell_type": "code",
   "execution_count": 4,
   "metadata": {},
   "outputs": [],
   "source": [
    "df = pd.read_sql('SELECT * FROM employee', con=conn)"
   ]
  },
  {
   "cell_type": "code",
   "execution_count": 7,
   "metadata": {},
   "outputs": [],
   "source": [
    "file_dict = df.to_dict('records')\n",
    "output_list = []\n",
    "for record in file_dict:\n",
    "    normalizer = Normalizer(record, 'en')\n",
    "    normalizer.action()\n",
    "    output_list.append(normalizer.dump())\n",
    "df_norm = pd.DataFrame(output_list)"
   ]
  },
  {
   "cell_type": "code",
   "execution_count": 8,
   "metadata": {},
   "outputs": [
    {
     "data": {
      "text/html": [
       "<div>\n",
       "<style scoped>\n",
       "    .dataframe tbody tr th:only-of-type {\n",
       "        vertical-align: middle;\n",
       "    }\n",
       "\n",
       "    .dataframe tbody tr th {\n",
       "        vertical-align: top;\n",
       "    }\n",
       "\n",
       "    .dataframe thead th {\n",
       "        text-align: right;\n",
       "    }\n",
       "</style>\n",
       "<table border=\"1\" class=\"dataframe\">\n",
       "  <thead>\n",
       "    <tr style=\"text-align: right;\">\n",
       "      <th></th>\n",
       "      <th>birthdate</th>\n",
       "      <th>blood_group</th>\n",
       "      <th>ethnic</th>\n",
       "      <th>health</th>\n",
       "      <th>mail</th>\n",
       "      <th>name</th>\n",
       "      <th>phone</th>\n",
       "      <th>politics</th>\n",
       "      <th>race</th>\n",
       "      <th>religion</th>\n",
       "      <th>sex</th>\n",
       "      <th>sexual</th>\n",
       "      <th>ssn</th>\n",
       "      <th>trade_union</th>\n",
       "    </tr>\n",
       "  </thead>\n",
       "  <tbody>\n",
       "    <tr>\n",
       "      <th>0</th>\n",
       "      <td>1992-04-17</td>\n",
       "      <td>ab+</td>\n",
       "      <td>hispanic or latino or spanish origin</td>\n",
       "      <td>disabled</td>\n",
       "      <td>juliakaufman@hotmail.com</td>\n",
       "      <td>wayne jones</td>\n",
       "      <td>(802)111-7264</td>\n",
       "      <td>isempty</td>\n",
       "      <td>white</td>\n",
       "      <td>caodaism</td>\n",
       "      <td>male</td>\n",
       "      <td>homosexual</td>\n",
       "      <td>001828525</td>\n",
       "      <td>isempty</td>\n",
       "    </tr>\n",
       "    <tr>\n",
       "      <th>1</th>\n",
       "      <td>1954-11-24</td>\n",
       "      <td>ab+</td>\n",
       "      <td>isempty</td>\n",
       "      <td>isempty</td>\n",
       "      <td>hallerika@gmail.com</td>\n",
       "      <td>christopher burgess</td>\n",
       "      <td>(731)673-6998</td>\n",
       "      <td>isempty</td>\n",
       "      <td>isempty</td>\n",
       "      <td>isempty</td>\n",
       "      <td>male</td>\n",
       "      <td>isempty</td>\n",
       "      <td>005252021</td>\n",
       "      <td>isempty</td>\n",
       "    </tr>\n",
       "    <tr>\n",
       "      <th>2</th>\n",
       "      <td>1961-09-28</td>\n",
       "      <td>ab+</td>\n",
       "      <td>isempty</td>\n",
       "      <td>isempty</td>\n",
       "      <td>fdurham@hotmail.com</td>\n",
       "      <td>yvette ramsey</td>\n",
       "      <td>(731)305-6279</td>\n",
       "      <td>isempty</td>\n",
       "      <td>isempty</td>\n",
       "      <td>isempty</td>\n",
       "      <td>female</td>\n",
       "      <td>isempty</td>\n",
       "      <td>005324497</td>\n",
       "      <td>isempty</td>\n",
       "    </tr>\n",
       "    <tr>\n",
       "      <th>3</th>\n",
       "      <td>1977-01-03</td>\n",
       "      <td>b+</td>\n",
       "      <td>hispanic or latino or spanish origin</td>\n",
       "      <td>isempty</td>\n",
       "      <td>christine44@hotmail.com</td>\n",
       "      <td>john frank</td>\n",
       "      <td>(215)986-2896</td>\n",
       "      <td>democratic party</td>\n",
       "      <td>white</td>\n",
       "      <td>isempty</td>\n",
       "      <td>male</td>\n",
       "      <td>asexual</td>\n",
       "      <td>007412966</td>\n",
       "      <td>false</td>\n",
       "    </tr>\n",
       "    <tr>\n",
       "      <th>4</th>\n",
       "      <td>1992-09-13</td>\n",
       "      <td>b-</td>\n",
       "      <td>isempty</td>\n",
       "      <td>isempty</td>\n",
       "      <td>rthomas@hotmail.com</td>\n",
       "      <td>heather rogers</td>\n",
       "      <td>(405)889-4448</td>\n",
       "      <td>isempty</td>\n",
       "      <td>isempty</td>\n",
       "      <td>isempty</td>\n",
       "      <td>female</td>\n",
       "      <td>isempty</td>\n",
       "      <td>010995324</td>\n",
       "      <td>isempty</td>\n",
       "    </tr>\n",
       "  </tbody>\n",
       "</table>\n",
       "</div>"
      ],
      "text/plain": [
       "    birthdate blood_group                                ethnic    health  \\\n",
       "0  1992-04-17         ab+  hispanic or latino or spanish origin  disabled   \n",
       "1  1954-11-24         ab+                               isempty   isempty   \n",
       "2  1961-09-28         ab+                               isempty   isempty   \n",
       "3  1977-01-03          b+  hispanic or latino or spanish origin   isempty   \n",
       "4  1992-09-13          b-                               isempty   isempty   \n",
       "\n",
       "                       mail                 name          phone  \\\n",
       "0  juliakaufman@hotmail.com          wayne jones  (802)111-7264   \n",
       "1       hallerika@gmail.com  christopher burgess  (731)673-6998   \n",
       "2       fdurham@hotmail.com        yvette ramsey  (731)305-6279   \n",
       "3   christine44@hotmail.com           john frank  (215)986-2896   \n",
       "4       rthomas@hotmail.com       heather rogers  (405)889-4448   \n",
       "\n",
       "           politics     race  religion     sex      sexual        ssn  \\\n",
       "0           isempty    white  caodaism    male  homosexual  001828525   \n",
       "1           isempty  isempty   isempty    male     isempty  005252021   \n",
       "2           isempty  isempty   isempty  female     isempty  005324497   \n",
       "3  democratic party    white   isempty    male     asexual  007412966   \n",
       "4           isempty  isempty   isempty  female     isempty  010995324   \n",
       "\n",
       "  trade_union  \n",
       "0     isempty  \n",
       "1     isempty  \n",
       "2     isempty  \n",
       "3       false  \n",
       "4     isempty  "
      ]
     },
     "execution_count": 8,
     "metadata": {},
     "output_type": "execute_result"
    }
   ],
   "source": [
    "df_norm.head()"
   ]
  },
  {
   "cell_type": "code",
   "execution_count": 18,
   "metadata": {},
   "outputs": [],
   "source": [
    "def get_md5(string):\n",
    "    string = string.encode('utf-8')\n",
    "    return {string: hashlib.md5(string).hexdigest()}"
   ]
  },
  {
   "cell_type": "code",
   "execution_count": 19,
   "metadata": {},
   "outputs": [],
   "source": [
    "df = df_norm.applymap(get_md5)"
   ]
  },
  {
   "cell_type": "code",
   "execution_count": 21,
   "metadata": {},
   "outputs": [],
   "source": [
    "df.to_csv('employee_md5.csv')"
   ]
  },
  {
   "cell_type": "code",
   "execution_count": null,
   "metadata": {},
   "outputs": [],
   "source": []
  }
 ],
 "metadata": {
  "kernelspec": {
   "display_name": "Python 3",
   "language": "python",
   "name": "python3"
  },
  "language_info": {
   "codemirror_mode": {
    "name": "ipython",
    "version": 3
   },
   "file_extension": ".py",
   "mimetype": "text/x-python",
   "name": "python",
   "nbconvert_exporter": "python",
   "pygments_lexer": "ipython3",
   "version": "3.6.5"
  }
 },
 "nbformat": 4,
 "nbformat_minor": 2
}
