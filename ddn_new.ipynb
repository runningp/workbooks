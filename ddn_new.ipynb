{
 "cells": [
  {
   "cell_type": "code",
   "execution_count": 1,
   "metadata": {},
   "outputs": [],
   "source": [
    "import sys\n",
    "sys.path.append('..')\n",
    "from ddn_config import *\n",
    "from ddn_etl_utils import *\n",
    "from etl_es import *\n",
    "import datetime\n",
    "import hashlib\n",
    "\n",
    "from pyspark.sql.types import *\n",
    "from pyspark.sql import Row"
   ]
  },
  {
   "cell_type": "code",
   "execution_count": 2,
   "metadata": {},
   "outputs": [],
   "source": [
    "start_time = '2018-07-27 19:05:00'\n",
    "end_time = '2018-07-27 19:20:59'\n",
    "\n",
    "read_label = True"
   ]
  },
  {
   "cell_type": "code",
   "execution_count": 3,
   "metadata": {},
   "outputs": [],
   "source": [
    "def vpn_ip(ip):\n",
    "    if '172.' in ip:\n",
    "        return True\n",
    "    return False\n",
    "vpn_ip_udf = udf(vpn_ip, BooleanType())"
   ]
  },
  {
   "cell_type": "code",
   "execution_count": 4,
   "metadata": {},
   "outputs": [],
   "source": [
    "spark = SparkSession.builder.getOrCreate()"
   ]
  },
  {
   "cell_type": "code",
   "execution_count": 5,
   "metadata": {},
   "outputs": [],
   "source": [
    "node_schema = ['type', 'node_id', 'node_ip', 'node_attr', 'ddn_id']\n",
    "edge_schema = ['from_id', 'to_id', 'proto', 'ddn_id', 'application', 'direction', 'total_bytes']\n",
    "\n",
    "# the schema for matching labels with existing ddn\n",
    "# category supports : 1. user; 2. application\n",
    "# role: will be used as ddn id\n",
    "# ids: for user, this list is ip list, for application, this list will be application key works within URI\n",
    "label_schema = ['category', 'role', 'ids']\n",
    "\n",
    "web_portal = ['192.168.7.100', '192.168.8.100']\n",
    "sql_portal = ['192.168.8.74', '192.168.8.155']\n",
    "\n",
    "#TODO: figure out an algorithm to detect multi-homed machines\n",
    "multi_homed_machine = [['192.168.7.100', \n",
    "                        '192.168.8.100']]"
   ]
  },
  {
   "cell_type": "code",
   "execution_count": 6,
   "metadata": {},
   "outputs": [],
   "source": [
    "multi_homed_machine_dict = {'192.168.7.100': 'web',\n",
    "                            '192.168.8.100': 'web'}\n",
    "rows = []\n",
    "for ip in web_portal:\n",
    "    row_dict = {}\n",
    "    row_dict['type'] = 'application'\n",
    "    row_dict['node_id'] = multi_homed_machine_dict[ip]\n",
    "    row_dict['node_ip'] = ip\n",
    "    row_dict['node_attr'] = ' '\n",
    "    row_dict['ddn_id'] = 'default_pii'\n",
    "    rows.append(Row(**row_dict))\n",
    "sc = spark.sparkContext\n",
    "web_nodes = sc.parallelize(rows).toDF().select(node_schema)"
   ]
  },
  {
   "cell_type": "code",
   "execution_count": 7,
   "metadata": {},
   "outputs": [],
   "source": [
    "interested_ip = web_portal + sql_portal\n",
    "interested_ip\n",
    "def in_list(ip):\n",
    "    return ip in interested_ip\n",
    "in_list_udf = udf(in_list, BooleanType())\n",
    "\n",
    "def multihomed_ip(ip):\n",
    "    for machine in multi_homed_machine:\n",
    "        if ip in machine:\n",
    "            return ','.join(machine)\n",
    "    return None\n",
    "multihomed_ip_udf = udf(multihomed_ip, StringType())\n",
    "\n",
    "def filter_intenal_ip(ip):\n",
    "    if ip is None:\n",
    "        return False\n",
    "    return '192.168' in ip\n",
    "filter_internal_ip_udf = udf(filter_intenal_ip, BooleanType())"
   ]
  },
  {
   "cell_type": "code",
   "execution_count": 8,
   "metadata": {},
   "outputs": [],
   "source": [
    "time_resolution = 300 # in secs, 5min\n",
    "def float_to_datetime(seconds):\n",
    "    if seconds is None:\n",
    "        return 0.0\n",
    "    return float(seconds)\n",
    "sec_to_dt_udf = udf(float_to_datetime, DoubleType())\n",
    "\n",
    "def ts_to_float(str):\n",
    "    from dateutil.parser import parse\n",
    "    if str is None:\n",
    "        return 0.0\n",
    "    dt = parse(str)\n",
    "    return dt.timestamp()\n",
    "ts_to_float_udf = udf(ts_to_float, DoubleType())\n",
    "    "
   ]
  },
  {
   "cell_type": "code",
   "execution_count": 9,
   "metadata": {},
   "outputs": [
    {
     "name": "stderr",
     "output_type": "stream",
     "text": [
      "GET http://192.168.7.25:9200/tds/_search?size=10000 [status:404 request:0.010s]\n",
      "GET http://192.168.7.25:9200/tds_sqlbatch/_search?size=10000 [status:404 request:0.004s]\n",
      "GET http://192.168.7.25:9200/tds_tds7login/_search?size=10000 [status:404 request:0.004s]\n"
     ]
    },
    {
     "name": "stdout",
     "output_type": "stream",
     "text": [
      "Reading index tds error from ES\n",
      "Reading index tds_sqlbatch error from ES\n",
      "Reading index tds_tds7login error from ES\n",
      "Reading index fuzzy error from ES\n"
     ]
    },
    {
     "ename": "AnalysisException",
     "evalue": "\"cannot resolve '`sha1`' given input columns: [container, @version, parent, filename, hash, @timestamp];;\\n'Project [container#697, filename#698, hash#699, 'sha1]\\n+- AnalysisBarrier\\n      +- Project [_source#688.@timestamp AS @timestamp#695, _source#688.@version AS @version#696, _source#688.container AS container#697, _source#688.filename AS filename#698, _source#688.hash AS hash#699, _source#688.parent AS parent#700]\\n         +- LogicalRDD [_id#685, _index#686, _score#687, _source#688, _type#689], false\\n\"",
     "output_type": "error",
     "traceback": [
      "\u001b[0;31m---------------------------------------------------------------------------\u001b[0m",
      "\u001b[0;31mPy4JJavaError\u001b[0m                             Traceback (most recent call last)",
      "\u001b[0;32m~/anaconda3/lib/python3.6/site-packages/pyspark/sql/utils.py\u001b[0m in \u001b[0;36mdeco\u001b[0;34m(*a, **kw)\u001b[0m\n\u001b[1;32m     62\u001b[0m         \u001b[0;32mtry\u001b[0m\u001b[0;34m:\u001b[0m\u001b[0;34m\u001b[0m\u001b[0m\n\u001b[0;32m---> 63\u001b[0;31m             \u001b[0;32mreturn\u001b[0m \u001b[0mf\u001b[0m\u001b[0;34m(\u001b[0m\u001b[0;34m*\u001b[0m\u001b[0ma\u001b[0m\u001b[0;34m,\u001b[0m \u001b[0;34m**\u001b[0m\u001b[0mkw\u001b[0m\u001b[0;34m)\u001b[0m\u001b[0;34m\u001b[0m\u001b[0m\n\u001b[0m\u001b[1;32m     64\u001b[0m         \u001b[0;32mexcept\u001b[0m \u001b[0mpy4j\u001b[0m\u001b[0;34m.\u001b[0m\u001b[0mprotocol\u001b[0m\u001b[0;34m.\u001b[0m\u001b[0mPy4JJavaError\u001b[0m \u001b[0;32mas\u001b[0m \u001b[0me\u001b[0m\u001b[0;34m:\u001b[0m\u001b[0;34m\u001b[0m\u001b[0m\n",
      "\u001b[0;32m~/anaconda3/lib/python3.6/site-packages/py4j/protocol.py\u001b[0m in \u001b[0;36mget_return_value\u001b[0;34m(answer, gateway_client, target_id, name)\u001b[0m\n\u001b[1;32m    327\u001b[0m                     \u001b[0;34m\"An error occurred while calling {0}{1}{2}.\\n\"\u001b[0m\u001b[0;34m.\u001b[0m\u001b[0;34m\u001b[0m\u001b[0m\n\u001b[0;32m--> 328\u001b[0;31m                     format(target_id, \".\", name), value)\n\u001b[0m\u001b[1;32m    329\u001b[0m             \u001b[0;32melse\u001b[0m\u001b[0;34m:\u001b[0m\u001b[0;34m\u001b[0m\u001b[0m\n",
      "\u001b[0;31mPy4JJavaError\u001b[0m: An error occurred while calling o413.select.\n: org.apache.spark.sql.AnalysisException: cannot resolve '`sha1`' given input columns: [container, @version, parent, filename, hash, @timestamp];;\n'Project [container#697, filename#698, hash#699, 'sha1]\n+- AnalysisBarrier\n      +- Project [_source#688.@timestamp AS @timestamp#695, _source#688.@version AS @version#696, _source#688.container AS container#697, _source#688.filename AS filename#698, _source#688.hash AS hash#699, _source#688.parent AS parent#700]\n         +- LogicalRDD [_id#685, _index#686, _score#687, _source#688, _type#689], false\n\n\tat org.apache.spark.sql.catalyst.analysis.package$AnalysisErrorAt.failAnalysis(package.scala:42)\n\tat org.apache.spark.sql.catalyst.analysis.CheckAnalysis$$anonfun$checkAnalysis$1$$anonfun$apply$2.applyOrElse(CheckAnalysis.scala:88)\n\tat org.apache.spark.sql.catalyst.analysis.CheckAnalysis$$anonfun$checkAnalysis$1$$anonfun$apply$2.applyOrElse(CheckAnalysis.scala:85)\n\tat org.apache.spark.sql.catalyst.trees.TreeNode$$anonfun$transformUp$1.apply(TreeNode.scala:289)\n\tat org.apache.spark.sql.catalyst.trees.TreeNode$$anonfun$transformUp$1.apply(TreeNode.scala:289)\n\tat org.apache.spark.sql.catalyst.trees.CurrentOrigin$.withOrigin(TreeNode.scala:70)\n\tat org.apache.spark.sql.catalyst.trees.TreeNode.transformUp(TreeNode.scala:288)\n\tat org.apache.spark.sql.catalyst.plans.QueryPlan$$anonfun$transformExpressionsUp$1.apply(QueryPlan.scala:95)\n\tat org.apache.spark.sql.catalyst.plans.QueryPlan$$anonfun$transformExpressionsUp$1.apply(QueryPlan.scala:95)\n\tat org.apache.spark.sql.catalyst.plans.QueryPlan$$anonfun$1.apply(QueryPlan.scala:107)\n\tat org.apache.spark.sql.catalyst.plans.QueryPlan$$anonfun$1.apply(QueryPlan.scala:107)\n\tat org.apache.spark.sql.catalyst.trees.CurrentOrigin$.withOrigin(TreeNode.scala:70)\n\tat org.apache.spark.sql.catalyst.plans.QueryPlan.transformExpression$1(QueryPlan.scala:106)\n\tat org.apache.spark.sql.catalyst.plans.QueryPlan.org$apache$spark$sql$catalyst$plans$QueryPlan$$recursiveTransform$1(QueryPlan.scala:118)\n\tat org.apache.spark.sql.catalyst.plans.QueryPlan$$anonfun$org$apache$spark$sql$catalyst$plans$QueryPlan$$recursiveTransform$1$1.apply(QueryPlan.scala:122)\n\tat scala.collection.TraversableLike$$anonfun$map$1.apply(TraversableLike.scala:234)\n\tat scala.collection.TraversableLike$$anonfun$map$1.apply(TraversableLike.scala:234)\n\tat scala.collection.mutable.ResizableArray$class.foreach(ResizableArray.scala:59)\n\tat scala.collection.mutable.ArrayBuffer.foreach(ArrayBuffer.scala:48)\n\tat scala.collection.TraversableLike$class.map(TraversableLike.scala:234)\n\tat scala.collection.AbstractTraversable.map(Traversable.scala:104)\n\tat org.apache.spark.sql.catalyst.plans.QueryPlan.org$apache$spark$sql$catalyst$plans$QueryPlan$$recursiveTransform$1(QueryPlan.scala:122)\n\tat org.apache.spark.sql.catalyst.plans.QueryPlan$$anonfun$2.apply(QueryPlan.scala:127)\n\tat org.apache.spark.sql.catalyst.trees.TreeNode.mapProductIterator(TreeNode.scala:187)\n\tat org.apache.spark.sql.catalyst.plans.QueryPlan.mapExpressions(QueryPlan.scala:127)\n\tat org.apache.spark.sql.catalyst.plans.QueryPlan.transformExpressionsUp(QueryPlan.scala:95)\n\tat org.apache.spark.sql.catalyst.analysis.CheckAnalysis$$anonfun$checkAnalysis$1.apply(CheckAnalysis.scala:85)\n\tat org.apache.spark.sql.catalyst.analysis.CheckAnalysis$$anonfun$checkAnalysis$1.apply(CheckAnalysis.scala:80)\n\tat org.apache.spark.sql.catalyst.trees.TreeNode.foreachUp(TreeNode.scala:127)\n\tat org.apache.spark.sql.catalyst.analysis.CheckAnalysis$class.checkAnalysis(CheckAnalysis.scala:80)\n\tat org.apache.spark.sql.catalyst.analysis.Analyzer.checkAnalysis(Analyzer.scala:92)\n\tat org.apache.spark.sql.catalyst.analysis.Analyzer.executeAndCheck(Analyzer.scala:105)\n\tat org.apache.spark.sql.execution.QueryExecution.analyzed$lzycompute(QueryExecution.scala:57)\n\tat org.apache.spark.sql.execution.QueryExecution.analyzed(QueryExecution.scala:55)\n\tat org.apache.spark.sql.execution.QueryExecution.assertAnalyzed(QueryExecution.scala:47)\n\tat org.apache.spark.sql.Dataset$.ofRows(Dataset.scala:74)\n\tat org.apache.spark.sql.Dataset.org$apache$spark$sql$Dataset$$withPlan(Dataset.scala:3296)\n\tat org.apache.spark.sql.Dataset.select(Dataset.scala:1307)\n\tat sun.reflect.GeneratedMethodAccessor16.invoke(Unknown Source)\n\tat sun.reflect.DelegatingMethodAccessorImpl.invoke(DelegatingMethodAccessorImpl.java:43)\n\tat java.lang.reflect.Method.invoke(Method.java:498)\n\tat py4j.reflection.MethodInvoker.invoke(MethodInvoker.java:244)\n\tat py4j.reflection.ReflectionEngine.invoke(ReflectionEngine.java:357)\n\tat py4j.Gateway.invoke(Gateway.java:282)\n\tat py4j.commands.AbstractCommand.invokeMethod(AbstractCommand.java:132)\n\tat py4j.commands.CallCommand.execute(CallCommand.java:79)\n\tat py4j.GatewayConnection.run(GatewayConnection.java:238)\n\tat java.lang.Thread.run(Thread.java:748)\n",
      "\nDuring handling of the above exception, another exception occurred:\n",
      "\u001b[0;31mAnalysisException\u001b[0m                         Traceback (most recent call last)",
      "\u001b[0;32m<ipython-input-9-bcae61c9ee22>\u001b[0m in \u001b[0;36m<module>\u001b[0;34m()\u001b[0m\n\u001b[1;32m      2\u001b[0m \u001b[0mend_time\u001b[0m \u001b[0;34m=\u001b[0m \u001b[0;34m'2018-07-27 19:20:59'\u001b[0m\u001b[0;34m\u001b[0m\u001b[0m\n\u001b[1;32m      3\u001b[0m ddn = connect_ddn(start_time = start_time, \n\u001b[0;32m----> 4\u001b[0;31m                   end_time = end_time)\n\u001b[0m\u001b[1;32m      5\u001b[0m \u001b[0mddn\u001b[0m \u001b[0;34m=\u001b[0m \u001b[0mddn\u001b[0m\u001b[0;34m.\u001b[0m\u001b[0mfilter\u001b[0m\u001b[0;34m(\u001b[0m\u001b[0mcol\u001b[0m\u001b[0;34m(\u001b[0m\u001b[0;34m'app'\u001b[0m\u001b[0;34m)\u001b[0m\u001b[0;34m!=\u001b[0m\u001b[0;34m'dns'\u001b[0m\u001b[0;34m)\u001b[0m         \u001b[0;34m.\u001b[0m\u001b[0mrepartition\u001b[0m\u001b[0;34m(\u001b[0m\u001b[0;36m8\u001b[0m\u001b[0;34m)\u001b[0m\u001b[0;34m\u001b[0m\u001b[0m\n\u001b[1;32m      6\u001b[0m \u001b[0mfrom_ddn\u001b[0m \u001b[0;34m=\u001b[0m \u001b[0mddn\u001b[0m\u001b[0;34m.\u001b[0m\u001b[0mfilter\u001b[0m\u001b[0;34m(\u001b[0m\u001b[0min_list_udf\u001b[0m\u001b[0;34m(\u001b[0m\u001b[0;34m\"`id.orig_h`\"\u001b[0m\u001b[0;34m)\u001b[0m\u001b[0;34m)\u001b[0m\u001b[0;34m\u001b[0m\u001b[0m\n",
      "\u001b[0;32m/opt/helios/code/app/ddn/ddn_etl_utils.py\u001b[0m in \u001b[0;36mconnect_ddn\u001b[0;34m(start_time, end_time)\u001b[0m\n\u001b[1;32m    173\u001b[0m     \u001b[0mddn\u001b[0m \u001b[0;34m=\u001b[0m \u001b[0mget_mysql_info\u001b[0m\u001b[0;34m(\u001b[0m\u001b[0mddn\u001b[0m\u001b[0;34m,\u001b[0m \u001b[0mmysql_df\u001b[0m\u001b[0;34m)\u001b[0m\u001b[0;34m\u001b[0m\u001b[0m\n\u001b[1;32m    174\u001b[0m \u001b[0;34m\u001b[0m\u001b[0m\n\u001b[0;32m--> 175\u001b[0;31m     \u001b[0mddn\u001b[0m \u001b[0;34m=\u001b[0m \u001b[0mget_fuzzy_info\u001b[0m\u001b[0;34m(\u001b[0m\u001b[0mddn\u001b[0m\u001b[0;34m,\u001b[0m \u001b[0mfuzzy_df\u001b[0m\u001b[0;34m)\u001b[0m\u001b[0;34m\u001b[0m\u001b[0m\n\u001b[0m\u001b[1;32m    176\u001b[0m \u001b[0;34m\u001b[0m\u001b[0m\n\u001b[1;32m    177\u001b[0m     \u001b[0mddn\u001b[0m \u001b[0;34m=\u001b[0m \u001b[0mddn\u001b[0m\u001b[0;34m.\u001b[0m\u001b[0mdistinct\u001b[0m\u001b[0;34m(\u001b[0m\u001b[0;34m)\u001b[0m\u001b[0;34m\u001b[0m\u001b[0m\n",
      "\u001b[0;32m/opt/helios/code/app/ddn/ddn_etl_utils.py\u001b[0m in \u001b[0;36mget_fuzzy_info\u001b[0;34m(data, fuzzy_df)\u001b[0m\n\u001b[1;32m     95\u001b[0m \u001b[0;34m\u001b[0m\u001b[0m\n\u001b[1;32m     96\u001b[0m \u001b[0;32mdef\u001b[0m \u001b[0mget_fuzzy_info\u001b[0m\u001b[0;34m(\u001b[0m\u001b[0mdata\u001b[0m\u001b[0;34m,\u001b[0m \u001b[0mfuzzy_df\u001b[0m\u001b[0;34m)\u001b[0m\u001b[0;34m:\u001b[0m\u001b[0;34m\u001b[0m\u001b[0m\n\u001b[0;32m---> 97\u001b[0;31m     \u001b[0mfuzzy\u001b[0m \u001b[0;34m=\u001b[0m \u001b[0mfuzzy_df\u001b[0m\u001b[0;34m.\u001b[0m\u001b[0mselect\u001b[0m\u001b[0;34m(\u001b[0m\u001b[0mFUZZY_SAVE_COL\u001b[0m\u001b[0;34m)\u001b[0m\u001b[0;34m\u001b[0m\u001b[0m\n\u001b[0m\u001b[1;32m     98\u001b[0m     \u001b[0mdata\u001b[0m \u001b[0;34m=\u001b[0m \u001b[0mdata\u001b[0m\u001b[0;34m.\u001b[0m\u001b[0mjoin\u001b[0m\u001b[0;34m(\u001b[0m\u001b[0mfuzzy\u001b[0m\u001b[0;34m,\u001b[0m \u001b[0mFILE_SHA1_ID\u001b[0m\u001b[0;34m,\u001b[0m \u001b[0;34m'left_outer'\u001b[0m\u001b[0;34m)\u001b[0m\u001b[0;34m\u001b[0m\u001b[0m\n\u001b[1;32m     99\u001b[0m     \u001b[0;32mreturn\u001b[0m \u001b[0mdata\u001b[0m\u001b[0;34m\u001b[0m\u001b[0m\n",
      "\u001b[0;32m~/anaconda3/lib/python3.6/site-packages/pyspark/sql/dataframe.py\u001b[0m in \u001b[0;36mselect\u001b[0;34m(self, *cols)\u001b[0m\n\u001b[1;32m   1200\u001b[0m         \u001b[0;34m[\u001b[0m\u001b[0mRow\u001b[0m\u001b[0;34m(\u001b[0m\u001b[0mname\u001b[0m\u001b[0;34m=\u001b[0m\u001b[0;34mu'Alice'\u001b[0m\u001b[0;34m,\u001b[0m \u001b[0mage\u001b[0m\u001b[0;34m=\u001b[0m\u001b[0;36m12\u001b[0m\u001b[0;34m)\u001b[0m\u001b[0;34m,\u001b[0m \u001b[0mRow\u001b[0m\u001b[0;34m(\u001b[0m\u001b[0mname\u001b[0m\u001b[0;34m=\u001b[0m\u001b[0;34mu'Bob'\u001b[0m\u001b[0;34m,\u001b[0m \u001b[0mage\u001b[0m\u001b[0;34m=\u001b[0m\u001b[0;36m15\u001b[0m\u001b[0;34m)\u001b[0m\u001b[0;34m]\u001b[0m\u001b[0;34m\u001b[0m\u001b[0m\n\u001b[1;32m   1201\u001b[0m         \"\"\"\n\u001b[0;32m-> 1202\u001b[0;31m         \u001b[0mjdf\u001b[0m \u001b[0;34m=\u001b[0m \u001b[0mself\u001b[0m\u001b[0;34m.\u001b[0m\u001b[0m_jdf\u001b[0m\u001b[0;34m.\u001b[0m\u001b[0mselect\u001b[0m\u001b[0;34m(\u001b[0m\u001b[0mself\u001b[0m\u001b[0;34m.\u001b[0m\u001b[0m_jcols\u001b[0m\u001b[0;34m(\u001b[0m\u001b[0;34m*\u001b[0m\u001b[0mcols\u001b[0m\u001b[0;34m)\u001b[0m\u001b[0;34m)\u001b[0m\u001b[0;34m\u001b[0m\u001b[0m\n\u001b[0m\u001b[1;32m   1203\u001b[0m         \u001b[0;32mreturn\u001b[0m \u001b[0mDataFrame\u001b[0m\u001b[0;34m(\u001b[0m\u001b[0mjdf\u001b[0m\u001b[0;34m,\u001b[0m \u001b[0mself\u001b[0m\u001b[0;34m.\u001b[0m\u001b[0msql_ctx\u001b[0m\u001b[0;34m)\u001b[0m\u001b[0;34m\u001b[0m\u001b[0m\n\u001b[1;32m   1204\u001b[0m \u001b[0;34m\u001b[0m\u001b[0m\n",
      "\u001b[0;32m~/anaconda3/lib/python3.6/site-packages/py4j/java_gateway.py\u001b[0m in \u001b[0;36m__call__\u001b[0;34m(self, *args)\u001b[0m\n\u001b[1;32m   1255\u001b[0m         \u001b[0manswer\u001b[0m \u001b[0;34m=\u001b[0m \u001b[0mself\u001b[0m\u001b[0;34m.\u001b[0m\u001b[0mgateway_client\u001b[0m\u001b[0;34m.\u001b[0m\u001b[0msend_command\u001b[0m\u001b[0;34m(\u001b[0m\u001b[0mcommand\u001b[0m\u001b[0;34m)\u001b[0m\u001b[0;34m\u001b[0m\u001b[0m\n\u001b[1;32m   1256\u001b[0m         return_value = get_return_value(\n\u001b[0;32m-> 1257\u001b[0;31m             answer, self.gateway_client, self.target_id, self.name)\n\u001b[0m\u001b[1;32m   1258\u001b[0m \u001b[0;34m\u001b[0m\u001b[0m\n\u001b[1;32m   1259\u001b[0m         \u001b[0;32mfor\u001b[0m \u001b[0mtemp_arg\u001b[0m \u001b[0;32min\u001b[0m \u001b[0mtemp_args\u001b[0m\u001b[0;34m:\u001b[0m\u001b[0;34m\u001b[0m\u001b[0m\n",
      "\u001b[0;32m~/anaconda3/lib/python3.6/site-packages/pyspark/sql/utils.py\u001b[0m in \u001b[0;36mdeco\u001b[0;34m(*a, **kw)\u001b[0m\n\u001b[1;32m     67\u001b[0m                                              e.java_exception.getStackTrace()))\n\u001b[1;32m     68\u001b[0m             \u001b[0;32mif\u001b[0m \u001b[0ms\u001b[0m\u001b[0;34m.\u001b[0m\u001b[0mstartswith\u001b[0m\u001b[0;34m(\u001b[0m\u001b[0;34m'org.apache.spark.sql.AnalysisException: '\u001b[0m\u001b[0;34m)\u001b[0m\u001b[0;34m:\u001b[0m\u001b[0;34m\u001b[0m\u001b[0m\n\u001b[0;32m---> 69\u001b[0;31m                 \u001b[0;32mraise\u001b[0m \u001b[0mAnalysisException\u001b[0m\u001b[0;34m(\u001b[0m\u001b[0ms\u001b[0m\u001b[0;34m.\u001b[0m\u001b[0msplit\u001b[0m\u001b[0;34m(\u001b[0m\u001b[0;34m': '\u001b[0m\u001b[0;34m,\u001b[0m \u001b[0;36m1\u001b[0m\u001b[0;34m)\u001b[0m\u001b[0;34m[\u001b[0m\u001b[0;36m1\u001b[0m\u001b[0;34m]\u001b[0m\u001b[0;34m,\u001b[0m \u001b[0mstackTrace\u001b[0m\u001b[0;34m)\u001b[0m\u001b[0;34m\u001b[0m\u001b[0m\n\u001b[0m\u001b[1;32m     70\u001b[0m             \u001b[0;32mif\u001b[0m \u001b[0ms\u001b[0m\u001b[0;34m.\u001b[0m\u001b[0mstartswith\u001b[0m\u001b[0;34m(\u001b[0m\u001b[0;34m'org.apache.spark.sql.catalyst.analysis'\u001b[0m\u001b[0;34m)\u001b[0m\u001b[0;34m:\u001b[0m\u001b[0;34m\u001b[0m\u001b[0m\n\u001b[1;32m     71\u001b[0m                 \u001b[0;32mraise\u001b[0m \u001b[0mAnalysisException\u001b[0m\u001b[0;34m(\u001b[0m\u001b[0ms\u001b[0m\u001b[0;34m.\u001b[0m\u001b[0msplit\u001b[0m\u001b[0;34m(\u001b[0m\u001b[0;34m': '\u001b[0m\u001b[0;34m,\u001b[0m \u001b[0;36m1\u001b[0m\u001b[0;34m)\u001b[0m\u001b[0;34m[\u001b[0m\u001b[0;36m1\u001b[0m\u001b[0;34m]\u001b[0m\u001b[0;34m,\u001b[0m \u001b[0mstackTrace\u001b[0m\u001b[0;34m)\u001b[0m\u001b[0;34m\u001b[0m\u001b[0m\n",
      "\u001b[0;31mAnalysisException\u001b[0m: \"cannot resolve '`sha1`' given input columns: [container, @version, parent, filename, hash, @timestamp];;\\n'Project [container#697, filename#698, hash#699, 'sha1]\\n+- AnalysisBarrier\\n      +- Project [_source#688.@timestamp AS @timestamp#695, _source#688.@version AS @version#696, _source#688.container AS container#697, _source#688.filename AS filename#698, _source#688.hash AS hash#699, _source#688.parent AS parent#700]\\n         +- LogicalRDD [_id#685, _index#686, _score#687, _source#688, _type#689], false\\n\""
     ]
    }
   ],
   "source": [
    "start_time = '2018-07-27 19:05:00'\n",
    "end_time = '2018-07-27 19:20:59'\n",
    "ddn = connect_ddn(start_time = start_time, \n",
    "                  end_time = end_time)\n",
    "ddn = ddn.filter(col('app')!='dns')\\\n",
    "         .repartition(8)\n",
    "from_ddn = ddn.filter(in_list_udf(\"`id.orig_h`\"))\n",
    "to_ddn = ddn.filter(in_list_udf(\"`id.resp_h`\"))\n",
    "interested_ddn = from_ddn.union(to_ddn)\\\n",
    "                         .withColumn('ts_float', ts_to_float_udf('@timestamp'))\\\n",
    "                         .persist()"
   ]
  },
  {
   "cell_type": "code",
   "execution_count": 10,
   "metadata": {},
   "outputs": [],
   "source": [
    "connection_schema = ['`id.orig_h`', '`id.orig_p`', '`id.resp_h`', '`id.resp_p`', '@timestamp', \n",
    "                     'ts_float', 'app', 'sqlbatch', 'arg', 'cmd', 'uri', 'proto', 'method', \n",
    "                     'orig_bytes', 'resp_bytes', 'uid', 'orig_sum_bytes', 'resp_sum_bytes']\n",
    "interested_ddn.distinct().count()\n",
    "\n",
    "# this will be used to derive \"edge\"\n",
    "all_connections = interested_ddn.select(connection_schema).distinct()"
   ]
  },
  {
   "cell_type": "code",
   "execution_count": 11,
   "metadata": {},
   "outputs": [],
   "source": [
    "\n",
    "# the following block calculate db host, talbes, and column names\n",
    "SQL_COL = 'sql_query' # when sqlbatch works, update here\n",
    "def fill_sql_query(sqlbatch, arg):\n",
    "    if sqlbatch is None:\n",
    "        return arg\n",
    "    return sqlbatch\n",
    "fill_sql_query_udf = udf(fill_sql_query, StringType())\n",
    "\n",
    "def extract_table_column_sql(row):\n",
    "    sql = row[SQL_COL]\n",
    "    host = row['id.resp_h']   \n",
    "    key = host\n",
    "    table = ''\n",
    "    columns = []\n",
    "    if sql is None:\n",
    "        return (key, columns)\n",
    "    sql = sql.lower()\n",
    "    from_split = sql.split('from ')\n",
    "    if len(from_split) == 2:\n",
    "        where_split = from_split[1].split(' where ')\n",
    "        col_split = where_split[1].split(' =')\n",
    "        # tables.append(where_split[0])\n",
    "        table = where_split[0]\n",
    "        columns.append(col_split[0])\n",
    "    insert_split = sql.split('insert into ')\n",
    "    if len(insert_split) == 2:\n",
    "        #tables.append(insert_split[1].split(' ')[0])\n",
    "        table = insert_split[1].split(' ')[0]\n",
    "        columns.append('*') # all columns\n",
    "    return (key + ';' + table, columns)\n",
    "\n",
    "def gen_direction(sql, method):\n",
    "    if sql is not None:\n",
    "        sql = sql.lower()\n",
    "        if 'insert into' in sql:\n",
    "            return 'co'\n",
    "        if 'select' in sql:\n",
    "            return 'counter'\n",
    "    if method is not None:\n",
    "        method = method.lower()\n",
    "        if 'post' in method:\n",
    "            return 'co'\n",
    "        if 'get' in method:\n",
    "            return 'counter'\n",
    "    return None\n",
    "gen_direction_udf = udf(gen_direction, StringType())\n",
    "\n",
    "def gen_total_bytes(direction, orig_sum_bytes, resp_sum_bytes):\n",
    "    if orig_sum_bytes is None:\n",
    "        orig_sum_bytes = 0.0\n",
    "    if resp_sum_bytes is None:\n",
    "        resp_sum_bytes = 0.0\n",
    "    def _my_max(a, b):\n",
    "        if a >= b:\n",
    "            return a\n",
    "        return b\n",
    "    if direction is None:\n",
    "        return _my_max(orig_sum_bytes, resp_sum_bytes)\n",
    "    if direction == 'co':\n",
    "        return orig_sum_bytes\n",
    "    return resp_sum_bytes\n",
    "gen_total_bytes_udf = udf(gen_total_bytes, DoubleType())\n",
    "\n",
    "def combine_tables(x, y):\n",
    "    columns = set()\n",
    "    columns.update(x)\n",
    "    columns.update(y)\n",
    "    return list(columns)\n",
    "\n",
    "def process_table_col_to_row(pair):\n",
    "    host_table = pair[0]\n",
    "    tokens = host_table.split(';')\n",
    "    host = tokens[0]\n",
    "    table_name = None\n",
    "    if len(tokens) == 2:\n",
    "        table_name = tokens[1]\n",
    "    columns = pair[1]\n",
    "    \n",
    "    res = {}\n",
    "    res['db_host'] = host\n",
    "    res['tables'] = table_name\n",
    "    res['columns'] = columns\n",
    "    return Row(**res)\n",
    "    \n",
    "all_connections = all_connections.withColumn(SQL_COL, fill_sql_query_udf('sqlbatch', 'arg'))\\\n",
    "                                 .withColumn('direction', gen_direction_udf(SQL_COL, 'method'))\\\n",
    "                                 .withColumn('total_bytes', gen_total_bytes_udf('direction', 'orig_sum_bytes', 'resp_sum_bytes'))\n",
    "db_table_col = all_connections.filter(col(SQL_COL).isNotNull())\\\n",
    "                           .rdd.map(lambda row: extract_table_column_sql(row))\\\n",
    "                           .reduceByKey(lambda x, y: combine_tables(x, y))\\\n",
    "                           .map(lambda pair: process_table_col_to_row(pair))\\\n",
    "                           .toDF()\\\n",
    "                           .filter(col('tables')!='')"
   ]
  },
  {
   "cell_type": "code",
   "execution_count": 12,
   "metadata": {},
   "outputs": [],
   "source": [
    "# Calculate db node\n",
    "db_map = {\n",
    "    '192.168.8.74' : 'mysql',\n",
    "    '192.168.8.155': 'mssql'\n",
    "    }\n",
    "def generate_db_id(ip):\n",
    "    return db_map.get(ip)\n",
    "generate_db_id_udf = udf(generate_db_id, StringType())\n",
    "\n",
    "def generate_db_ip(ip):\n",
    "    return ip\n",
    "generate_db_ip_udf = udf(generate_db_ip, StringType())\n",
    "\n",
    "def generate_db_attr(columns, tables):\n",
    "    res = {}\n",
    "    res['columns'] = columns\n",
    "    res['tables'] = tables\n",
    "    return json.dumps(res)\n",
    "generate_db_attr_udf = udf(generate_db_attr, StringType())\n",
    "\n",
    "# node_schema = ['type', 'node_id', 'node_ip', 'node_attr', 'ddn_id']\n",
    "db_inter_df = db_table_col.withColumn('type', lit('database'))\\\n",
    "                        .withColumn('node_id', generate_db_id_udf('db_host'))\\\n",
    "                        .withColumn('node_ip', generate_db_ip_udf('db_host'))\\\n",
    "                        .withColumn('node_attr', generate_db_attr_udf('columns', 'tables'))\\\n",
    "                        .withColumn('ddn_id', lit('default_pii'))\n",
    "db_node = db_inter_df.select(node_schema)"
   ]
  },
  {
   "cell_type": "code",
   "execution_count": 13,
   "metadata": {},
   "outputs": [
    {
     "name": "stdout",
     "output_type": "stream",
     "text": [
      "+--------+-------+-------------+--------------------+-----------+\n",
      "|    type|node_id|      node_ip|           node_attr|     ddn_id|\n",
      "+--------+-------+-------------+--------------------+-----------+\n",
      "|database|  mssql|192.168.8.155|{\"columns\": [\"eid...|default_pii|\n",
      "|database|  mssql|192.168.8.155|{\"columns\": [\"eid...|default_pii|\n",
      "|database|  mysql| 192.168.8.74|{\"columns\": [\"*\",...|default_pii|\n",
      "|database|  mysql| 192.168.8.74|{\"columns\": [\"eid...|default_pii|\n",
      "|database|  mssql|192.168.8.155|{\"columns\": [\"eid...|default_pii|\n",
      "+--------+-------+-------------+--------------------+-----------+\n",
      "\n"
     ]
    }
   ],
   "source": [
    "db_node.show()"
   ]
  },
  {
   "cell_type": "code",
   "execution_count": 289,
   "metadata": {},
   "outputs": [],
   "source": [
    "table_nodes = db_inter_df.drop('node_id')\\\n",
    "                        .withColumn('type', lit('table'))\\\n",
    "                       .withColumn('node_id', col('tables'))\\\n",
    "                       .select(node_schema)\n",
    "# ['from_id', 'to_id', 'proto', 'ddn_id', 'application', 'direction', 'total_bytes']\n",
    "table_edges = db_inter_df.withColumn('from_id', col('node_ip'))\\\n",
    "                        .withColumn('to_id', col('tables'))\\\n",
    "                        .withColumn('proto', lit('same_machine'))\\\n",
    "                        .withColumn('ddn_id', lit('default_pii'))\\\n",
    "                        .withColumn('application', lit(''))\\\n",
    "                        .withColumn('direction', lit('co'))\\\n",
    "                        .withColumn('total_bytes', lit(0))\\\n",
    "                        .select(edge_schema)"
   ]
  },
  {
   "cell_type": "code",
   "execution_count": 201,
   "metadata": {},
   "outputs": [
    {
     "name": "stdout",
     "output_type": "stream",
     "text": [
      "+-----+-----------+-------------+--------------------+-----------+\n",
      "| type|    node_id|      node_ip|           node_attr|     ddn_id|\n",
      "+-----+-----------+-------------+--------------------+-----------+\n",
      "|table|   employee|192.168.8.155|{\"columns\": [\"eid...|default_pii|\n",
      "|table|performance|192.168.8.155|{\"columns\": [\"eid...|default_pii|\n",
      "|table|  customers| 192.168.8.74|{\"columns\": [\"*\",...|default_pii|\n",
      "|table|      sales| 192.168.8.74|{\"columns\": [\"eid...|default_pii|\n",
      "|table|    payment|192.168.8.155|{\"columns\": [\"eid...|default_pii|\n",
      "+-----+-----------+-------------+--------------------+-----------+\n",
      "\n"
     ]
    }
   ],
   "source": [
    "table_nodes.show()"
   ]
  },
  {
   "cell_type": "code",
   "execution_count": 202,
   "metadata": {},
   "outputs": [],
   "source": [
    "# the following block extracts application information\n",
    "application_cols = ['`id.orig_h`', '`id.orig_p`', '`id.resp_h`', '`id.resp_p`', 'application', 'proto', 'direction', 'total_bytes']\n",
    "known_applications = ['payroll', 'employee_info', 'customer', 'performance', 'sales']\n",
    "def extract_application_from_uri(uri):\n",
    "    if uri is None \\\n",
    "        or uri == '/' \\\n",
    "        or not uri.startswith('/'):\n",
    "        return 'unknown'\n",
    "    for known_app in known_applications:\n",
    "        if known_app in uri:\n",
    "            return known_app + \"_app\"\n",
    "    return 'unknown'\n",
    "#     tokens = uri.split('/')\n",
    "#     return tokens[1]\n",
    "application_udf = udf(extract_application_from_uri, StringType())\n",
    "\n",
    "def get_app_direction_from_uri(uri, direction):\n",
    "    if uri is None:\n",
    "        return None\n",
    "    if 'set' in uri:\n",
    "        return 'co'\n",
    "    if 'check' in uri:\n",
    "        return 'counter'\n",
    "    return direction\n",
    "get_app_direction_from_uri_udf = udf(get_app_direction_from_uri, StringType())\n",
    "\n",
    "def in_web_list(ip):\n",
    "    return ip in web_portal\n",
    "in_web_list_udf = udf(in_web_list, BooleanType())\n",
    "\n",
    "def in_sql_list(ip):\n",
    "    return ip in sql_portal\n",
    "in_sql_list_udf = udf(in_sql_list, BooleanType())\n",
    "\n",
    "user_to_app = all_connections.filter(in_web_list_udf('`id.resp_h`'))\\\n",
    "                                 .withColumn('application', application_udf('uri'))\\\n",
    "                                 .withColumn('direction', get_app_direction_from_uri_udf('uri', 'direction'))\\\n",
    "                                 .select(application_cols)\\\n",
    "                                 .distinct().filter(col('application')!='unknown')"
   ]
  },
  {
   "cell_type": "code",
   "execution_count": 203,
   "metadata": {},
   "outputs": [],
   "source": [
    "def app_gen_from_id(from_ip, port, application):\n",
    "    return application # from_ip + \":\" + port + '/' +\n",
    "app_gen_from_id_udf = udf(app_gen_from_id, StringType())\n",
    "\n",
    "# currently this is a placeholder\n",
    "def generate_app_attr(ip):\n",
    "    res = {}\n",
    "    res['ip'] = ip\n",
    "    return json.dumps(res)\n",
    "generate_app_attr_udf = udf(generate_app_attr, StringType())\n",
    "\n",
    "app_node = user_to_app.withColumn('type', lit('application'))\\\n",
    "                      .withColumn('node_id', app_gen_from_id_udf('`id.resp_h`', '`id.resp_p`', 'application'))\\\n",
    "                      .withColumn('node_ip', col('`id.resp_h`'))\\\n",
    "                      .withColumn('node_attr', generate_app_attr_udf('`id.resp_h`'))\\\n",
    "                      .withColumn('ddn_id', lit('default_pii'))\\\n",
    "                      .select(node_schema)\\\n",
    "                      .distinct()"
   ]
  },
  {
   "cell_type": "code",
   "execution_count": 205,
   "metadata": {},
   "outputs": [],
   "source": [
    "# calculate app to storage edge\n",
    "\n",
    "def app_gen_from_id(from_ip, port, application):\n",
    "    return from_ip# + \":\" + port + '/' + application\n",
    "app_gen_from_id_udf = udf(app_gen_from_id, StringType())\n",
    "\n",
    "def app_gen_to_id(orig_ip):\n",
    "    return orig_ip\n",
    "app_gen_to_id_udf = udf(app_gen_to_id, StringType())\n",
    "\n",
    "def gen_proto_port(port, proto):\n",
    "    return proto+\":\"+port\n",
    "gen_proto_port_udf = udf(gen_proto_port, StringType())\n",
    "\n",
    "# # this is a placeholder for application edge.\n",
    "# # currently it does NOT add any information\n",
    "# def app_gen_edge_attr(port, proto, total_bytes):\n",
    "#     res = {}\n",
    "#     res['port'] = port\n",
    "#     res['protocol'] = proto\n",
    "#     res['total_bytes'] = total_bytes\n",
    "#     return json.dumps(res)\n",
    "# app_gen_edge_attr_udf = udf(app_gen_edge_attr, StringType())\n",
    "\n",
    "app_to_db = all_connections.filter(in_sql_list_udf('`id.resp_h`'))\\\n",
    "                                 .withColumn('application', application_udf('uri'))\\\n",
    "                                 .select(application_cols)\\\n",
    "                                 .distinct()\n",
    "app_edge = app_to_db.withColumn('from_id', app_gen_from_id_udf('`id.orig_h`','`id.resp_p`','application'))\\\n",
    "                   .withColumn('to_id', app_gen_to_id_udf('`id.resp_h`'))\\\n",
    "                   .withColumn('ddn_id', lit('default_pii'))\\\n",
    "                   .select(edge_schema)\\\n",
    "                   .distinct()\n",
    "\n"
   ]
  },
  {
   "cell_type": "code",
   "execution_count": 207,
   "metadata": {},
   "outputs": [],
   "source": [
    "# the following block add user information to all the connections\n",
    "# known_users = {\n",
    "#     '192.168.7.130' : 'arthur',\n",
    "#     '192.168.7.171' : 'hua'\n",
    "# }\n",
    "def add_user(ip):\n",
    "    return ip\n",
    "#     if ip in known_users:\n",
    "#         return known_users[ip]\n",
    "#     return 'unknown'\n",
    "add_user_udf = udf(add_user, StringType())\n",
    "all_connections_with_app = all_connections.withColumn('application', application_udf('uri'))\n",
    "user_df = all_connections_with_app.withColumn('user', add_user_udf('`id.orig_h`'))\\\n",
    "                                  .filter(~in_list_udf('`id.orig_h`'))\n",
    "#                         .filter(col('user')!='unknown')"
   ]
  },
  {
   "cell_type": "code",
   "execution_count": 208,
   "metadata": {},
   "outputs": [],
   "source": [
    "def generate_user_attr(ip, username):\n",
    "    res = {}\n",
    "    res['ip'] = ip\n",
    "    res['username'] = username\n",
    "    return json.dumps(res)\n",
    "generate_user_attr_udf = udf(generate_user_attr, StringType())\n",
    "\n",
    "user_node = user_df.withColumn('type', lit('user'))\\\n",
    "              .withColumn('node_id', col('user'))\\\n",
    "              .withColumn('node_ip', col('`id.orig_h`'))\\\n",
    "              .withColumn('node_attr', generate_user_attr_udf('`id.orig_h`', 'user'))\\\n",
    "              .withColumn('ddn_id', lit('default_pii'))\\\n",
    "              .select(node_schema).distinct()"
   ]
  },
  {
   "cell_type": "code",
   "execution_count": 209,
   "metadata": {},
   "outputs": [],
   "source": [
    "def user_gen_from_id(orig_ip):\n",
    "    return orig_ip\n",
    "user_gen_from_id_udf = udf(user_gen_from_id, StringType())\n",
    "\n",
    "def user_gen_to_id(resp_ip, port, application):\n",
    "    if application is not None and application != 'unknown':\n",
    "        return application #resp_ip + \":\" + port + '/' + \n",
    "    return resp_ip\n",
    "user_gen_to_id_udf = udf(user_gen_to_id, StringType())\n",
    "\n",
    "# # this is a placeholder for user to application edge.\n",
    "# # currently it does NOT add any information\n",
    "# def user_gen_edge_attr(port, proto, total_bytes):\n",
    "#     res = {}\n",
    "#     ports = set()\n",
    "#     ports.add(port)\n",
    "    \n",
    "#     protos = set()\n",
    "#     protos.add(proto)\n",
    "    \n",
    "#     res['port'] = ports\n",
    "#     res['protocol'] = protos\n",
    "#     res['total_bytes'] = total_bytes\n",
    "#     return json.dumps(res)\n",
    "# user_gen_edge_attr_udf = udf(user_gen_edge_attr, StringType())\n",
    "\n",
    "user_edge = user_df.withColumn('from_id', user_gen_from_id_udf('`id.orig_h`'))\\\n",
    "                   .withColumn('to_id', user_gen_to_id_udf('`id.resp_h`','`id.resp_p`','application'))\\\n",
    "                   .withColumn('ddn_id', lit('default_pii'))\\\n",
    "                   .select(edge_schema)\n",
    "\n"
   ]
  },
  {
   "cell_type": "code",
   "execution_count": 210,
   "metadata": {},
   "outputs": [],
   "source": [
    "nodes = app_node.union(user_node)\\\n",
    "                .union(db_node)\\\n",
    "                .union(web_nodes)\\\n",
    "                .union(table_nodes)\\\n",
    "                .withColumn('multi_home', multihomed_ip_udf('node_ip'))"
   ]
  },
  {
   "cell_type": "code",
   "execution_count": 288,
   "metadata": {},
   "outputs": [
    {
     "name": "stdout",
     "output_type": "stream",
     "text": [
      "+--------+-----------+-------------+--------------------+-----------+\n",
      "|    type|    node_id|      node_ip|           node_attr|     ddn_id|\n",
      "+--------+-----------+-------------+--------------------+-----------+\n",
      "|database|   employee|192.168.8.155|{\"columns\": [\"eid...|default_pii|\n",
      "|database|performance|192.168.8.155|{\"columns\": [\"eid...|default_pii|\n",
      "|database|  customers| 192.168.8.74|{\"columns\": [\"*\",...|default_pii|\n",
      "|database|      sales| 192.168.8.74|{\"columns\": [\"eid...|default_pii|\n",
      "|database|    payment|192.168.8.155|{\"columns\": [\"eid...|default_pii|\n",
      "+--------+-----------+-------------+--------------------+-----------+\n",
      "\n"
     ]
    }
   ],
   "source": [
    "table_nodes.show()"
   ]
  },
  {
   "cell_type": "code",
   "execution_count": 270,
   "metadata": {},
   "outputs": [],
   "source": [
    "same_edges = nodes.filter(in_web_list_udf('node_ip'))\\\n",
    "                 .withColumn('from_id', col('node_id'))\\\n",
    "                 .withColumn('to_id', col('node_ip'))\\\n",
    "                 .withColumn('direction', lit('same_machine'))\\\n",
    "                 .withColumn('proto', lit('same_machine'))\\\n",
    "                 .withColumn('ddn_id', lit('default_pii'))\\\n",
    "                 .withColumn('application', lit('same_machine'))\\\n",
    "                 .withColumn('total_bytes', lit(0)).select(edge_schema)\\"
   ]
  },
  {
   "cell_type": "code",
   "execution_count": 271,
   "metadata": {},
   "outputs": [],
   "source": [
    "# web_edge = nodes.filter(col('node_ip') == '192.168.7.100')\\\n",
    "#              .withColumn('from_id', col('node_ip'))\\\n",
    "#              .withColumn('to_id', lit('192.168.8.100'))\\\n",
    "#              .withColumn('direction', lit('same_machine'))\\\n",
    "#              .withColumn('proto', lit('same_machine'))\\\n",
    "#              .withColumn('ddn_id', lit('default_pii'))\\\n",
    "#              .withColumn('application', lit('same_machine'))\\\n",
    "#              .withColumn('total_bytes', lit(0)).select(edge_schema).distinct()\n",
    "same_edges = same_edges.filter(col('from_id') != 'web') #.union(web_edge)"
   ]
  },
  {
   "cell_type": "code",
   "execution_count": 272,
   "metadata": {},
   "outputs": [
    {
     "name": "stdout",
     "output_type": "stream",
     "text": [
      "+-----------------+-------------+------------+-----------+------------+------------+-----------+\n",
      "|          from_id|        to_id|       proto|     ddn_id| application|   direction|total_bytes|\n",
      "+-----------------+-------------+------------+-----------+------------+------------+-----------+\n",
      "|        sales_app|192.168.7.100|same_machine|default_pii|same_machine|same_machine|          0|\n",
      "|      payroll_app|192.168.7.100|same_machine|default_pii|same_machine|same_machine|          0|\n",
      "|employee_info_app|192.168.7.100|same_machine|default_pii|same_machine|same_machine|          0|\n",
      "|     customer_app|192.168.7.100|same_machine|default_pii|same_machine|same_machine|          0|\n",
      "|  performance_app|192.168.7.100|same_machine|default_pii|same_machine|same_machine|          0|\n",
      "+-----------------+-------------+------------+-----------+------------+------------+-----------+\n",
      "\n"
     ]
    }
   ],
   "source": [
    "same_edges.show()"
   ]
  },
  {
   "cell_type": "code",
   "execution_count": 273,
   "metadata": {},
   "outputs": [],
   "source": [
    "def gen_proto(proto):\n",
    "    if proto is None:\n",
    "        return 'con'\n",
    "    return proto\n",
    "gen_proto_udf = udf(gen_proto, StringType())"
   ]
  },
  {
   "cell_type": "code",
   "execution_count": 274,
   "metadata": {},
   "outputs": [],
   "source": [
    "edges = user_edge.union(app_edge)\\\n",
    "                .union(same_edges)\\\n",
    "                .union(table_edges)\\\n",
    "               .repartition(8).persist()"
   ]
  },
  {
   "cell_type": "code",
   "execution_count": 275,
   "metadata": {},
   "outputs": [],
   "source": [
    "# edges = user_edge.union(app_edge)\\\n",
    "#                 .union(same_edges)\\\n",
    "#                 .union(table_edges)\\\n",
    "#                 .groupby('from_id', 'to_id', 'ddn_id', 'direction', 'application', 'proto')\\\n",
    "#                 .agg((sum('total_bytes')/1024).alias('total_bytes'))\\\n",
    "#                 .withColumn('proto', gen_proto_udf('proto'))\\\n",
    "#                 .repartition(8).persist()"
   ]
  },
  {
   "cell_type": "code",
   "execution_count": 276,
   "metadata": {},
   "outputs": [],
   "source": [
    "edges = edges#.filter(col('direction').isNotNull())\n",
    "def reorder_edge(row):\n",
    "    new_row = {}\n",
    "    if row['direction'] == 'counter':\n",
    "        new_row['from_id'] = row['to_id']\n",
    "        new_row['to_id'] = row['from_id']\n",
    "    else:\n",
    "        new_row['from_id'] = row['from_id']\n",
    "        new_row['to_id'] = row['to_id']\n",
    "    new_row['proto'] = row['proto']\n",
    "    new_row['total_bytes'] = row['total_bytes']\n",
    "    new_row['ddn_id'] = row['ddn_id']\n",
    "    return Row(**new_row)\n",
    "edges_new = edges.rdd.map(reorder_edge).toDF()"
   ]
  },
  {
   "cell_type": "code",
   "execution_count": null,
   "metadata": {},
   "outputs": [],
   "source": []
  },
  {
   "cell_type": "code",
   "execution_count": 277,
   "metadata": {},
   "outputs": [],
   "source": [
    "edge_from = edges_new.select('from_id').rdd.map(lambda row: row[0]).distinct().collect()\n",
    "edge_to = edges_new.select('to_id').rdd.map(lambda row: row[0]).distinct().collect()\n",
    "nodes_ip = nodes.select('node_ip').rdd.map(lambda row: row[0]).distinct().collect()\n",
    "nodes_id = nodes.select('node_id').rdd.map(lambda row: row[0]).distinct().collect()\n",
    "# nodes_id = nodes.select('node_id').rdd.map(lambda row: row[0]).distinct().collect()"
   ]
  },
  {
   "cell_type": "code",
   "execution_count": 278,
   "metadata": {},
   "outputs": [],
   "source": [
    "# table_edges.filter(col('to_id')=='employee').show()"
   ]
  },
  {
   "cell_type": "code",
   "execution_count": 279,
   "metadata": {},
   "outputs": [
    {
     "data": {
      "text/plain": [
       "26"
      ]
     },
     "execution_count": 279,
     "metadata": {},
     "output_type": "execute_result"
    }
   ],
   "source": [
    "all_ip = set(edge_from + edge_to + nodes_ip + nodes_id)\n",
    "len(all_ip)"
   ]
  },
  {
   "cell_type": "code",
   "execution_count": 280,
   "metadata": {},
   "outputs": [],
   "source": [
    "ip_map = {}\n",
    "all_ip = list(all_ip)\n",
    "for i in range(0, len(all_ip)):\n",
    "    ip_map[all_ip[i]] = i\n",
    "web_id = ip_map.get('web')\n",
    "ip_map['192.168.7.100'] = web_id\n",
    "ip_map['192.168.8.100'] = web_id\n",
    "\n",
    "mssql_id = ip_map.get('mssql')\n",
    "ip_map['192.168.8.155'] = mssql_id\n",
    "mysql_id = ip_map.get('mysql')\n",
    "ip_map['192.168.8.74'] = mysql_id\n",
    "\n",
    "def map_ip(ip, second = None):\n",
    "    if second is None:\n",
    "        return ip_map.get(ip)\n",
    "    if '.' not in ip:\n",
    "        return ip_map.get(second)\n",
    "    return ip_map.get(second)\n",
    "map_ip_udf = udf(map_ip, IntegerType())"
   ]
  },
  {
   "cell_type": "code",
   "execution_count": 281,
   "metadata": {},
   "outputs": [
    {
     "data": {
      "text/plain": [
       "6"
      ]
     },
     "execution_count": 281,
     "metadata": {},
     "output_type": "execute_result"
    }
   ],
   "source": [
    "map_ip( 'web', '192.168.8.100')"
   ]
  },
  {
   "cell_type": "code",
   "execution_count": null,
   "metadata": {},
   "outputs": [],
   "source": []
  },
  {
   "cell_type": "code",
   "execution_count": 282,
   "metadata": {},
   "outputs": [
    {
     "data": {
      "text/plain": [
       "{'172.27.232.19': 0,\n",
       " '172.27.232.20': 21,\n",
       " '192.168.7.100': 6,\n",
       " '192.168.7.104': 17,\n",
       " '192.168.7.122': 1,\n",
       " '192.168.7.159': 14,\n",
       " '192.168.7.171': 8,\n",
       " '192.168.7.178': 24,\n",
       " '192.168.7.180': 11,\n",
       " '192.168.7.254': 15,\n",
       " '192.168.8.100': 6,\n",
       " '192.168.8.155': 22,\n",
       " '192.168.8.74': 25,\n",
       " 'customer_app': 2,\n",
       " 'customers': 13,\n",
       " 'employee': 20,\n",
       " 'employee_info_app': 9,\n",
       " 'mssql': 22,\n",
       " 'mysql': 25,\n",
       " 'payment': 7,\n",
       " 'payroll_app': 4,\n",
       " 'performance': 5,\n",
       " 'performance_app': 16,\n",
       " 'sales': 18,\n",
       " 'sales_app': 19,\n",
       " 'web': 6}"
      ]
     },
     "execution_count": 282,
     "metadata": {},
     "output_type": "execute_result"
    }
   ],
   "source": [
    "ip_map"
   ]
  },
  {
   "cell_type": "code",
   "execution_count": 291,
   "metadata": {},
   "outputs": [],
   "source": [
    "nodes_final = nodes.withColumn('iid', map_ip_udf('node_id'))\\\n",
    "                    .drop('node_attr', 'node_ip')\\\n",
    "                    .distinct().repartition(4).persist()\n",
    "\n",
    "edges_final = edges_new.withColumn('iid_from', map_ip_udf('from_id'))\\\n",
    "                    .withColumn('iid_to', map_ip_udf('to_id'))\\\n",
    "                    .repartition(4).persist()\\\n",
    "                    .groupby('iid_from', 'iid_to', 'ddn_id', 'proto')\\\n",
    "                    .agg((sum('total_bytes')/1024).alias('total_bytes'))\\\n",
    "                    .withColumn('proto', gen_proto_udf('proto'))\\\n",
    "            "
   ]
  },
  {
   "cell_type": "code",
   "execution_count": 298,
   "metadata": {},
   "outputs": [
    {
     "name": "stdout",
     "output_type": "stream",
     "text": [
      "+--------+------+-----------+------------+--------------------+\n",
      "|iid_from|iid_to|     ddn_id|       proto|         total_bytes|\n",
      "+--------+------+-----------+------------+--------------------+\n",
      "|       6|    25|default_pii|         tcp|  22.050378799438477|\n",
      "|       4|     6|default_pii|same_machine|                 0.0|\n",
      "|      19|    21|default_pii|         tcp|      0.037841796875|\n",
      "|       9|     6|default_pii|same_machine|                 0.0|\n",
      "|       4|     0|default_pii|         tcp| 0.06339645385742188|\n",
      "|      22|     6|default_pii|         tcp|  18.665061950683594|\n",
      "|      14|     6|default_pii|         tcp|                 0.0|\n",
      "|       4|    21|default_pii|         con|                 0.0|\n",
      "|       1|     6|default_pii|         tcp|3.452301025390625E-4|\n",
      "|       0|     6|default_pii|         tcp|   68.30154418945312|\n",
      "|      21|     6|default_pii|         tcp|0.002843856811523...|\n",
      "|      16|     1|default_pii|         tcp|                 0.0|\n",
      "|      24|     6|default_pii|         tcp|                 0.0|\n",
      "|       4|    17|default_pii|         tcp|                 0.0|\n",
      "|       2|    21|default_pii|         tcp|   0.066619873046875|\n",
      "|       6|    22|default_pii|         tcp|   18.73050022125244|\n",
      "|      22|    20|default_pii|same_machine|                 0.0|\n",
      "|       9|    17|default_pii|         tcp|                 0.0|\n",
      "|       8|     6|default_pii|         tcp|                 0.0|\n",
      "|       9|     0|default_pii|         tcp| 0.11121749877929688|\n",
      "+--------+------+-----------+------------+--------------------+\n",
      "only showing top 20 rows\n",
      "\n"
     ]
    }
   ],
   "source": [
    "edges_final.show()"
   ]
  },
  {
   "cell_type": "code",
   "execution_count": 292,
   "metadata": {},
   "outputs": [],
   "source": [
    "# nodes.withColumn('iid', map_ip_udf('node_id'))\\\n",
    "#      .drop('node_attr').toPandas()"
   ]
  },
  {
   "cell_type": "code",
   "execution_count": 293,
   "metadata": {},
   "outputs": [],
   "source": [
    "# # nodes.toPandas()\n",
    "# nodes_final.drop('node_attr').repartition(1).write.mode('overwrite').option(\"header\", \"true\").csv('nodes.csv')\n",
    "# edges_final.repartition(1).write.mode('overwrite').option(\"header\", \"true\").csv('edges.csv')"
   ]
  },
  {
   "cell_type": "code",
   "execution_count": 294,
   "metadata": {},
   "outputs": [],
   "source": [
    "nodes_local = nodes_final.toPandas()\n",
    "edges_local = edges_final.toPandas()"
   ]
  },
  {
   "cell_type": "code",
   "execution_count": 296,
   "metadata": {},
   "outputs": [
    {
     "name": "stdout",
     "output_type": "stream",
     "text": [
      "42\n"
     ]
    }
   ],
   "source": [
    "from py2neo import Graph\n",
    "\n",
    "def gen_node_query(iid, name, label):\n",
    "    return \"CREATE (n%s:%s {id:%s, name:'%s'});\" % (iid, label, iid, name)\n",
    "\n",
    "def gen_edge_query(iid_from, iid_to, proto):\n",
    "    return \"MATCH (a {id:%s}), (b {id:%s}) CREATE (a)-[r:%s]->(b);\" % (iid_from, iid_to, proto)\n",
    "\n",
    "graph = Graph(\"http://192.168.7.143:7474/db/data/\")\n",
    "queries = \"\"\n",
    "cnt = 0\n",
    "for index, row in nodes_local.iterrows():\n",
    "    query = gen_node_query(row['iid'], row['node_id'], row['type'])\n",
    "    queries+=query\n",
    "#     cnt+=1\n",
    "    graph.run(query)\n",
    "for index, row in edges_local.iterrows():\n",
    "    query = gen_edge_query(row['iid_from'], row['iid_to'], row['proto'] + '_' + str(int(row['total_bytes'])))\n",
    "    queries+=query\n",
    "    cnt+=1\n",
    "    graph.run(query)\n",
    "print(cnt)"
   ]
  },
  {
   "cell_type": "code",
   "execution_count": 170,
   "metadata": {},
   "outputs": [
    {
     "data": {
      "text/plain": [
       "\"CREATE (n5:application {id:5, name:'web'});CREATE (n13:user {id:13, name:'192.168.7.159'});CREATE (n23:database {id:23, name:'mysql'});CREATE (n14:user {id:14, name:'192.168.7.254'});CREATE (n18:user {id:18, name:'172.27.232.20'});CREATE (n10:user {id:10, name:'192.168.7.180'});CREATE (n5:application {id:5, name:'web'});CREATE (n16:database {id:16, name:'sales'});CREATE (n7:database {id:7, name:'payment'});CREATE (n1:user {id:1, name:'192.168.7.122'});CREATE (n4:application {id:4, name:'customer'});CREATE (n22:user {id:22, name:'192.168.7.178'});CREATE (n21:application {id:21, name:'employee_info'});CREATE (n3:application {id:3, name:'performance'});CREATE (n17:database {id:17, name:'employee'});CREATE (n3:database {id:3, name:'performance'});CREATE (n6:application {id:6, name:'payroll'});CREATE (n0:user {id:0, name:'172.27.232.19'});CREATE (n8:user {id:8, name:'192.168.7.171'});CREATE (n16:application {id:16, name:'sales'});CREATE (n19:database {id:19, name:'mssql'});CREATE (n15:user {id:15, name:'192.168.7.104'});CREATE (n12:database {id:12, name:'customers'});MATCH (a {id:6}), (b {id:18}) CREATE (a)-[r:con_0]->(b);MATCH (a {id:1}), (b {id:5}) CREATE (a)-[r:tcp_0]->(b);MATCH (a {id:5}), (b {id:5}) CREATE (a)-[r:same_machine_0]->(b);MATCH (a {id:6}), (b {id:1}) CREATE (a)-[r:tcp_0]->(b);MATCH (a {id:21}), (b {id:18}) CREATE (a)-[r:tcp_51]->(b);MATCH (a {id:6}), (b {id:15}) CREATE (a)-[r:tcp_0]->(b);MATCH (a {id:23}), (b {id:12}) CREATE (a)-[r:same_machine_0]->(b);MATCH (a {id:3}), (b {id:0}) CREATE (a)-[r:tcp_63]->(b);MATCH (a {id:21}), (b {id:15}) CREATE (a)-[r:tcp_0]->(b);MATCH (a {id:16}), (b {id:18}) CREATE (a)-[r:tcp_38]->(b);MATCH (a {id:0}), (b {id:5}) CREATE (a)-[r:tcp_3]->(b);MATCH (a {id:21}), (b {id:1}) CREATE (a)-[r:tcp_0]->(b);MATCH (a {id:21}), (b {id:18}) CREATE (a)-[r:con_0]->(b);MATCH (a {id:13}), (b {id:5}) CREATE (a)-[r:tcp_0]->(b);MATCH (a {id:14}), (b {id:5}) CREATE (a)-[r:icmp_1]->(b);MATCH (a {id:19}), (b {id:5}) CREATE (a)-[r:tcp_19113]->(b);MATCH (a {id:18}), (b {id:5}) CREATE (a)-[r:tcp_2]->(b);MATCH (a {id:23}), (b {id:5}) CREATE (a)-[r:tcp_22254]->(b);MATCH (a {id:5}), (b {id:19}) CREATE (a)-[r:con_0]->(b);MATCH (a {id:22}), (b {id:5}) CREATE (a)-[r:tcp_0]->(b);MATCH (a {id:5}), (b {id:19}) CREATE (a)-[r:con_0]->(b);MATCH (a {id:5}), (b {id:5}) CREATE (a)-[r:same_machine_0]->(b);MATCH (a {id:19}), (b {id:7}) CREATE (a)-[r:same_machine_0]->(b);MATCH (a {id:15}), (b {id:5}) CREATE (a)-[r:tcp_0]->(b);MATCH (a {id:6}), (b {id:0}) CREATE (a)-[r:tcp_64]->(b);MATCH (a {id:5}), (b {id:19}) CREATE (a)-[r:tcp_4]->(b);MATCH (a {id:19}), (b {id:17}) CREATE (a)-[r:same_machine_0]->(b);MATCH (a {id:18}), (b {id:5}) CREATE (a)-[r:icmp_0]->(b);MATCH (a {id:10}), (b {id:5}) CREATE (a)-[r:tcp_0]->(b);MATCH (a {id:23}), (b {id:16}) CREATE (a)-[r:same_machine_0]->(b);MATCH (a {id:6}), (b {id:5}) CREATE (a)-[r:same_machine_0]->(b);MATCH (a {id:3}), (b {id:5}) CREATE (a)-[r:same_machine_0]->(b);MATCH (a {id:5}), (b {id:5}) CREATE (a)-[r:same_machine_0]->(b);MATCH (a {id:21}), (b {id:0}) CREATE (a)-[r:tcp_113]->(b);MATCH (a {id:8}), (b {id:5}) CREATE (a)-[r:tcp_0]->(b);MATCH (a {id:6}), (b {id:18}) CREATE (a)-[r:tcp_26]->(b);MATCH (a {id:4}), (b {id:15}) CREATE (a)-[r:tcp_0]->(b);MATCH (a {id:19}), (b {id:3}) CREATE (a)-[r:same_machine_0]->(b);MATCH (a {id:21}), (b {id:5}) CREATE (a)-[r:same_machine_0]->(b);MATCH (a {id:4}), (b {id:5}) CREATE (a)-[r:same_machine_0]->(b);MATCH (a {id:5}), (b {id:23}) CREATE (a)-[r:tcp_0]->(b);MATCH (a {id:5}), (b {id:19}) CREATE (a)-[r:tcp_19175]->(b);MATCH (a {id:19}), (b {id:5}) CREATE (a)-[r:con_0]->(b);MATCH (a {id:5}), (b {id:23}) CREATE (a)-[r:tcp_22579]->(b);MATCH (a {id:0}), (b {id:5}) CREATE (a)-[r:tcp_69936]->(b);MATCH (a {id:16}), (b {id:5}) CREATE (a)-[r:same_machine_0]->(b);MATCH (a {id:16}), (b {id:15}) CREATE (a)-[r:tcp_0]->(b);MATCH (a {id:3}), (b {id:1}) CREATE (a)-[r:tcp_0]->(b);MATCH (a {id:4}), (b {id:18}) CREATE (a)-[r:tcp_68]->(b);\""
      ]
     },
     "execution_count": 170,
     "metadata": {},
     "output_type": "execute_result"
    }
   ],
   "source": [
    "queries"
   ]
  },
  {
   "cell_type": "code",
   "execution_count": 234,
   "metadata": {},
   "outputs": [
    {
     "data": {
      "text/plain": [
       "22"
      ]
     },
     "execution_count": 234,
     "metadata": {},
     "output_type": "execute_result"
    }
   ],
   "source": [
    "nodes_final.drop('node_ip').distinct().count()"
   ]
  },
  {
   "cell_type": "code",
   "execution_count": 135,
   "metadata": {},
   "outputs": [
    {
     "data": {
      "text/html": [
       "<div>\n",
       "<style scoped>\n",
       "    .dataframe tbody tr th:only-of-type {\n",
       "        vertical-align: middle;\n",
       "    }\n",
       "\n",
       "    .dataframe tbody tr th {\n",
       "        vertical-align: top;\n",
       "    }\n",
       "\n",
       "    .dataframe thead th {\n",
       "        text-align: right;\n",
       "    }\n",
       "</style>\n",
       "<table border=\"1\" class=\"dataframe\">\n",
       "  <thead>\n",
       "    <tr style=\"text-align: right;\">\n",
       "      <th></th>\n",
       "      <th>type</th>\n",
       "      <th>node_id</th>\n",
       "      <th>node_ip</th>\n",
       "      <th>ddn_id</th>\n",
       "      <th>multi_home</th>\n",
       "      <th>iid</th>\n",
       "    </tr>\n",
       "  </thead>\n",
       "  <tbody>\n",
       "    <tr>\n",
       "      <th>0</th>\n",
       "      <td>application</td>\n",
       "      <td>web</td>\n",
       "      <td>192.168.7.100</td>\n",
       "      <td>default_pii</td>\n",
       "      <td>192.168.7.100,192.168.8.100</td>\n",
       "      <td>5</td>\n",
       "    </tr>\n",
       "    <tr>\n",
       "      <th>1</th>\n",
       "      <td>user</td>\n",
       "      <td>192.168.7.159</td>\n",
       "      <td>192.168.7.159</td>\n",
       "      <td>default_pii</td>\n",
       "      <td>None</td>\n",
       "      <td>13</td>\n",
       "    </tr>\n",
       "    <tr>\n",
       "      <th>2</th>\n",
       "      <td>database</td>\n",
       "      <td>mysql</td>\n",
       "      <td>192.168.8.74</td>\n",
       "      <td>default_pii</td>\n",
       "      <td>None</td>\n",
       "      <td>23</td>\n",
       "    </tr>\n",
       "    <tr>\n",
       "      <th>3</th>\n",
       "      <td>user</td>\n",
       "      <td>192.168.7.254</td>\n",
       "      <td>192.168.7.254</td>\n",
       "      <td>default_pii</td>\n",
       "      <td>None</td>\n",
       "      <td>14</td>\n",
       "    </tr>\n",
       "    <tr>\n",
       "      <th>4</th>\n",
       "      <td>user</td>\n",
       "      <td>172.27.232.20</td>\n",
       "      <td>172.27.232.20</td>\n",
       "      <td>default_pii</td>\n",
       "      <td>None</td>\n",
       "      <td>18</td>\n",
       "    </tr>\n",
       "    <tr>\n",
       "      <th>5</th>\n",
       "      <td>user</td>\n",
       "      <td>192.168.7.180</td>\n",
       "      <td>192.168.7.180</td>\n",
       "      <td>default_pii</td>\n",
       "      <td>None</td>\n",
       "      <td>10</td>\n",
       "    </tr>\n",
       "    <tr>\n",
       "      <th>6</th>\n",
       "      <td>application</td>\n",
       "      <td>web</td>\n",
       "      <td>192.168.8.100</td>\n",
       "      <td>default_pii</td>\n",
       "      <td>192.168.7.100,192.168.8.100</td>\n",
       "      <td>5</td>\n",
       "    </tr>\n",
       "    <tr>\n",
       "      <th>7</th>\n",
       "      <td>database</td>\n",
       "      <td>sales</td>\n",
       "      <td>192.168.8.74</td>\n",
       "      <td>default_pii</td>\n",
       "      <td>None</td>\n",
       "      <td>16</td>\n",
       "    </tr>\n",
       "    <tr>\n",
       "      <th>8</th>\n",
       "      <td>database</td>\n",
       "      <td>payment</td>\n",
       "      <td>192.168.8.155</td>\n",
       "      <td>default_pii</td>\n",
       "      <td>None</td>\n",
       "      <td>7</td>\n",
       "    </tr>\n",
       "    <tr>\n",
       "      <th>9</th>\n",
       "      <td>user</td>\n",
       "      <td>192.168.7.122</td>\n",
       "      <td>192.168.7.122</td>\n",
       "      <td>default_pii</td>\n",
       "      <td>None</td>\n",
       "      <td>1</td>\n",
       "    </tr>\n",
       "    <tr>\n",
       "      <th>10</th>\n",
       "      <td>application</td>\n",
       "      <td>customer</td>\n",
       "      <td>192.168.7.100</td>\n",
       "      <td>default_pii</td>\n",
       "      <td>192.168.7.100,192.168.8.100</td>\n",
       "      <td>4</td>\n",
       "    </tr>\n",
       "    <tr>\n",
       "      <th>11</th>\n",
       "      <td>user</td>\n",
       "      <td>192.168.7.178</td>\n",
       "      <td>192.168.7.178</td>\n",
       "      <td>default_pii</td>\n",
       "      <td>None</td>\n",
       "      <td>22</td>\n",
       "    </tr>\n",
       "    <tr>\n",
       "      <th>12</th>\n",
       "      <td>application</td>\n",
       "      <td>employee_info</td>\n",
       "      <td>192.168.7.100</td>\n",
       "      <td>default_pii</td>\n",
       "      <td>192.168.7.100,192.168.8.100</td>\n",
       "      <td>21</td>\n",
       "    </tr>\n",
       "    <tr>\n",
       "      <th>13</th>\n",
       "      <td>application</td>\n",
       "      <td>performance</td>\n",
       "      <td>192.168.7.100</td>\n",
       "      <td>default_pii</td>\n",
       "      <td>192.168.7.100,192.168.8.100</td>\n",
       "      <td>3</td>\n",
       "    </tr>\n",
       "    <tr>\n",
       "      <th>14</th>\n",
       "      <td>database</td>\n",
       "      <td>employee</td>\n",
       "      <td>192.168.8.155</td>\n",
       "      <td>default_pii</td>\n",
       "      <td>None</td>\n",
       "      <td>17</td>\n",
       "    </tr>\n",
       "    <tr>\n",
       "      <th>15</th>\n",
       "      <td>database</td>\n",
       "      <td>performance</td>\n",
       "      <td>192.168.8.155</td>\n",
       "      <td>default_pii</td>\n",
       "      <td>None</td>\n",
       "      <td>3</td>\n",
       "    </tr>\n",
       "    <tr>\n",
       "      <th>16</th>\n",
       "      <td>application</td>\n",
       "      <td>payroll</td>\n",
       "      <td>192.168.7.100</td>\n",
       "      <td>default_pii</td>\n",
       "      <td>192.168.7.100,192.168.8.100</td>\n",
       "      <td>6</td>\n",
       "    </tr>\n",
       "    <tr>\n",
       "      <th>17</th>\n",
       "      <td>user</td>\n",
       "      <td>172.27.232.19</td>\n",
       "      <td>172.27.232.19</td>\n",
       "      <td>default_pii</td>\n",
       "      <td>None</td>\n",
       "      <td>0</td>\n",
       "    </tr>\n",
       "    <tr>\n",
       "      <th>18</th>\n",
       "      <td>user</td>\n",
       "      <td>192.168.7.171</td>\n",
       "      <td>192.168.7.171</td>\n",
       "      <td>default_pii</td>\n",
       "      <td>None</td>\n",
       "      <td>8</td>\n",
       "    </tr>\n",
       "    <tr>\n",
       "      <th>19</th>\n",
       "      <td>application</td>\n",
       "      <td>sales</td>\n",
       "      <td>192.168.7.100</td>\n",
       "      <td>default_pii</td>\n",
       "      <td>192.168.7.100,192.168.8.100</td>\n",
       "      <td>16</td>\n",
       "    </tr>\n",
       "    <tr>\n",
       "      <th>20</th>\n",
       "      <td>database</td>\n",
       "      <td>mssql</td>\n",
       "      <td>192.168.8.155</td>\n",
       "      <td>default_pii</td>\n",
       "      <td>None</td>\n",
       "      <td>19</td>\n",
       "    </tr>\n",
       "    <tr>\n",
       "      <th>21</th>\n",
       "      <td>user</td>\n",
       "      <td>192.168.7.104</td>\n",
       "      <td>192.168.7.104</td>\n",
       "      <td>default_pii</td>\n",
       "      <td>None</td>\n",
       "      <td>15</td>\n",
       "    </tr>\n",
       "    <tr>\n",
       "      <th>22</th>\n",
       "      <td>database</td>\n",
       "      <td>customers</td>\n",
       "      <td>192.168.8.74</td>\n",
       "      <td>default_pii</td>\n",
       "      <td>None</td>\n",
       "      <td>12</td>\n",
       "    </tr>\n",
       "  </tbody>\n",
       "</table>\n",
       "</div>"
      ],
      "text/plain": [
       "           type        node_id        node_ip       ddn_id  \\\n",
       "0   application            web  192.168.7.100  default_pii   \n",
       "1          user  192.168.7.159  192.168.7.159  default_pii   \n",
       "2      database          mysql   192.168.8.74  default_pii   \n",
       "3          user  192.168.7.254  192.168.7.254  default_pii   \n",
       "4          user  172.27.232.20  172.27.232.20  default_pii   \n",
       "5          user  192.168.7.180  192.168.7.180  default_pii   \n",
       "6   application            web  192.168.8.100  default_pii   \n",
       "7      database          sales   192.168.8.74  default_pii   \n",
       "8      database        payment  192.168.8.155  default_pii   \n",
       "9          user  192.168.7.122  192.168.7.122  default_pii   \n",
       "10  application       customer  192.168.7.100  default_pii   \n",
       "11         user  192.168.7.178  192.168.7.178  default_pii   \n",
       "12  application  employee_info  192.168.7.100  default_pii   \n",
       "13  application    performance  192.168.7.100  default_pii   \n",
       "14     database       employee  192.168.8.155  default_pii   \n",
       "15     database    performance  192.168.8.155  default_pii   \n",
       "16  application        payroll  192.168.7.100  default_pii   \n",
       "17         user  172.27.232.19  172.27.232.19  default_pii   \n",
       "18         user  192.168.7.171  192.168.7.171  default_pii   \n",
       "19  application          sales  192.168.7.100  default_pii   \n",
       "20     database          mssql  192.168.8.155  default_pii   \n",
       "21         user  192.168.7.104  192.168.7.104  default_pii   \n",
       "22     database      customers   192.168.8.74  default_pii   \n",
       "\n",
       "                     multi_home  iid  \n",
       "0   192.168.7.100,192.168.8.100    5  \n",
       "1                          None   13  \n",
       "2                          None   23  \n",
       "3                          None   14  \n",
       "4                          None   18  \n",
       "5                          None   10  \n",
       "6   192.168.7.100,192.168.8.100    5  \n",
       "7                          None   16  \n",
       "8                          None    7  \n",
       "9                          None    1  \n",
       "10  192.168.7.100,192.168.8.100    4  \n",
       "11                         None   22  \n",
       "12  192.168.7.100,192.168.8.100   21  \n",
       "13  192.168.7.100,192.168.8.100    3  \n",
       "14                         None   17  \n",
       "15                         None    3  \n",
       "16  192.168.7.100,192.168.8.100    6  \n",
       "17                         None    0  \n",
       "18                         None    8  \n",
       "19  192.168.7.100,192.168.8.100   16  \n",
       "20                         None   19  \n",
       "21                         None   15  \n",
       "22                         None   12  "
      ]
     },
     "execution_count": 135,
     "metadata": {},
     "output_type": "execute_result"
    }
   ],
   "source": [
    "nodes_local"
   ]
  },
  {
   "cell_type": "code",
   "execution_count": 254,
   "metadata": {},
   "outputs": [
    {
     "data": {
      "text/plain": [
       "'MATCH (a {id:15}), (b {id:0}) CREATE (a)-[r:con_0]->(b);MATCH (a {id:17}), (b {id:5}) CREATE (a)-[r:same_machine_0]->(b);MATCH (a {id:15}), (b {id:3}) CREATE (a)-[r:tcp_0]->(b);MATCH (a {id:21}), (b {id:5}) CREATE (a)-[r:con_0]->(b);MATCH (a {id:19}), (b {id:18}) CREATE (a)-[r:con_0]->(b);MATCH (a {id:2}), (b {id:0}) CREATE (a)-[r:tcp_67]->(b);MATCH (a {id:15}), (b {id:21}) CREATE (a)-[r:con_0]->(b);MATCH (a {id:8}), (b {id:18}) CREATE (a)-[r:con_0]->(b);MATCH (a {id:15}), (b {id:18}) CREATE (a)-[r:tcp_0]->(b);MATCH (a {id:7}), (b {id:10}) CREATE (a)-[r:same_machine_0]->(b);MATCH (a {id:22}), (b {id:21}) CREATE (a)-[r:tcp_46]->(b);MATCH (a {id:2}), (b {id:18}) CREATE (a)-[r:tcp_0]->(b);MATCH (a {id:2}), (b {id:21}) CREATE (a)-[r:con_0]->(b);MATCH (a {id:8}), (b {id:0}) CREATE (a)-[r:tcp_51]->(b);MATCH (a {id:2}), (b {id:3}) CREATE (a)-[r:con_0]->(b);MATCH (a {id:22}), (b {id:3}) CREATE (a)-[r:tcp_0]->(b);MATCH (a {id:2}), (b {id:3}) CREATE (a)-[r:tcp_0]->(b);MATCH (a {id:2}), (b {id:0}) CREATE (a)-[r:con_0]->(b);MATCH (a {id:22}), (b {id:21}) CREATE (a)-[r:con_0]->(b);MATCH (a {id:15}), (b {id:18}) CREATE (a)-[r:con_0]->(b);MATCH (a {id:16}), (b {id:20}) CREATE (a)-[r:tcp_26141]->(b);MATCH (a {id:7}), (b {id:20}) CREATE (a)-[r:tcp_34572]->(b);MATCH (a {id:20}), (b {id:16}) CREATE (a)-[r:con_0]->(b);MATCH (a {id:5}), (b {id:20}) CREATE (a)-[r:same_machine_0]->(b);MATCH (a {id:16}), (b {id:9}) CREATE (a)-[r:same_machine_0]->(b);MATCH (a {id:15}), (b {id:21}) CREATE (a)-[r:tcp_50]->(b);MATCH (a {id:20}), (b {id:16}) CREATE (a)-[r:tcp_4]->(b);MATCH (a {id:16}), (b {id:13}) CREATE (a)-[r:same_machine_0]->(b);MATCH (a {id:7}), (b {id:8}) CREATE (a)-[r:same_machine_0]->(b);MATCH (a {id:15}), (b {id:5}) CREATE (a)-[r:same_machine_0]->(b);MATCH (a {id:22}), (b {id:5}) CREATE (a)-[r:same_machine_0]->(b);MATCH (a {id:17}), (b {id:20}) CREATE (a)-[r:same_machine_0]->(b);MATCH (a {id:2}), (b {id:21}) CREATE (a)-[r:tcp_86]->(b);MATCH (a {id:19}), (b {id:0}) CREATE (a)-[r:tcp_90]->(b);MATCH (a {id:15}), (b {id:3}) CREATE (a)-[r:con_0]->(b);MATCH (a {id:19}), (b {id:0}) CREATE (a)-[r:con_0]->(b);MATCH (a {id:15}), (b {id:0}) CREATE (a)-[r:tcp_39]->(b);MATCH (a {id:19}), (b {id:18}) CREATE (a)-[r:tcp_0]->(b);MATCH (a {id:16}), (b {id:22}) CREATE (a)-[r:same_machine_0]->(b);MATCH (a {id:2}), (b {id:5}) CREATE (a)-[r:same_machine_0]->(b);MATCH (a {id:19}), (b {id:5}) CREATE (a)-[r:same_machine_0]->(b);MATCH (a {id:20}), (b {id:7}) CREATE (a)-[r:tcp_0]->(b);MATCH (a {id:2}), (b {id:18}) CREATE (a)-[r:con_0]->(b);MATCH (a {id:16}), (b {id:20}) CREATE (a)-[r:con_0]->(b);MATCH (a {id:8}), (b {id:0}) CREATE (a)-[r:con_0]->(b);MATCH (a {id:21}), (b {id:5}) CREATE (a)-[r:tcp_29825]->(b);MATCH (a {id:22}), (b {id:3}) CREATE (a)-[r:con_0]->(b);MATCH (a {id:8}), (b {id:5}) CREATE (a)-[r:same_machine_0]->(b);MATCH (a {id:8}), (b {id:18}) CREATE (a)-[r:tcp_0]->(b);'"
      ]
     },
     "execution_count": 254,
     "metadata": {},
     "output_type": "execute_result"
    }
   ],
   "source": [
    "queries"
   ]
  },
  {
   "cell_type": "code",
   "execution_count": null,
   "metadata": {},
   "outputs": [],
   "source": [
    "edges_json = edges.toPandas().to_json()\n",
    "nodes_json = nodes.toPandas().to_json()\n",
    "ddn_dict = {}\n",
    "ddn_dict['nodes'] = nodes_json\n",
    "ddn_dict['edges'] = edges_json\n",
    "\n",
    "import json\n",
    "with open('ddn.json', 'w') as outfile:\n",
    "    json.dump(ddn_dict, outfile)"
   ]
  },
  {
   "cell_type": "code",
   "execution_count": 25,
   "metadata": {},
   "outputs": [],
   "source": [
    "# def gen_hash(from_id, to_id, ddn_id, application, direction):\n",
    "#     return from_id + to_id + ddn_id + application + direction\n",
    "# gen_hash_udf = udf(gen_hash, StringType())\n",
    "# def combine_edge(row1, row2):\n",
    "#     total_bytes1 = row1['total_bytes']\n",
    "#     total_bytes2 = row2['total_bytes']\n",
    "    \n",
    "#     total_bytes = total_bytes1 + total_bytes2\n",
    "    \n",
    "#     edge_attr1 = json.loads(row1['edge_attr'])\n",
    "#     edge_attr2 = json.loads(row2['edge_attr'])\n",
    "    \n",
    "#     new_attr = {}\n",
    "#     ports = set()\n",
    "#     ports.add(edge_attr1['port'])\n",
    "#     ports.add(edge_attr2['port'])\n",
    "    \n",
    "#     protos = set()\n",
    "#     protos.add(edge_attr1['protocol'])\n",
    "#     protos.add(edge_attr2['protocol'])\n",
    "    \n",
    "#     new_attr['port'] = list(ports)\n",
    "#     new_attr['protocol'] = list(protos)\n",
    "#     new_attr['total_bytes'] = total_bytes\n",
    "    \n",
    "#     new_row = {}\n",
    "#     new_row['from_id'] = row1['from_id']\n",
    "#     new_row['to_id'] = row1['to_id']\n",
    "#     new_row['edge_attr'] = json.dumps(new_attr)\n",
    "#     new_row['ddn_id'] = row1['ddn_id']\n",
    "#     new_row['direction'] = row1['direction']\n",
    "#     new_row['total_bytes'] = row1['total_bytes']\n",
    "#     return Row(**new_row)\n",
    "# edges_combined = edges.withColumn('hash', gen_hash_udf('from_id', 'to_id', 'ddn_id', 'application', 'direction'))\\\n",
    "#      .rdd.map(lambda row: (row['hash'], row))\\\n",
    "#      .reduceByKey(combine_edge).toDF()"
   ]
  },
  {
   "cell_type": "code",
   "execution_count": 235,
   "metadata": {},
   "outputs": [
    {
     "data": {
      "image/png": "[encoded data removed]",
      "text/plain": [
       "<matplotlib.figure.Figure at 0x7fc87632ee10>"
      ]
     },
     "metadata": {},
     "output_type": "display_data"
    }
   ],
   "source": [
    "from_ = edges_final.select('from_id').rdd.map(lambda row: row[0]).collect()\n",
    "to_ = edges_final.select('to_id').rdd.map(lambda row: row[0]).collect()\n",
    "\n",
    "# libraries\n",
    "import pandas as pd\n",
    "import numpy as np\n",
    "import networkx as nx\n",
    "import matplotlib.pyplot as plt\n",
    " \n",
    "# Build a dataframe with 4 connections\n",
    "df = pd.DataFrame({ 'from': from_, 'to': to_})\n",
    "df\n",
    " \n",
    "# Build your graph\n",
    "G=nx.from_pandas_dataframe(df, 'from', 'to', create_using=nx.DiGraph())\n",
    " \n",
    "# Plot it\n",
    "nx.draw(G, with_labels=True)\n",
    "plt.show()\n"
   ]
  },
  {
   "cell_type": "code",
   "execution_count": null,
   "metadata": {},
   "outputs": [],
   "source": []
  },
  {
   "cell_type": "code",
   "execution_count": null,
   "metadata": {},
   "outputs": [],
   "source": []
  },
  {
   "cell_type": "code",
   "execution_count": 269,
   "metadata": {},
   "outputs": [
    {
     "data": {
      "text/plain": [
       "<py2neo.database.Transaction at 0x7fd558f00320>"
      ]
     },
     "execution_count": 269,
     "metadata": {},
     "output_type": "execute_result"
    }
   ],
   "source": [
    "from py2neo import Graph\n",
    "\n",
    "graph = Graph(\"http://192.168.7.143:7474/db/data/\")\n",
    "\n",
    "# merge nodes and relationship\n",
    "# create Tom and Jerry as before\n",
    "u1 = Node(\"Person\",name='Tom',id=1)\n",
    "u2 = Node('Person', name='Jerry', id=2)\n",
    "\n",
    "# either use u1 and u2 directly\n",
    "u1_knows_u2 = Relationship(u1, 'KKNOWS', u2)\n",
    "graph.begin()"
   ]
  },
  {
   "cell_type": "code",
   "execution_count": 278,
   "metadata": {},
   "outputs": [],
   "source": [
    "def importFromCSVtoNeo(graph):\n",
    "    query = \"MATCH (a {id: 21}),(b {id:14}) CREATE (a)-[r:tcp]->(b) RETURN a;\"\n",
    "    graph.run(query)\n",
    "importFromCSVtoNeo(graph)"
   ]
  },
  {
   "cell_type": "code",
   "execution_count": null,
   "metadata": {},
   "outputs": [],
   "source": []
  },
  {
   "cell_type": "code",
   "execution_count": 297,
   "metadata": {},
   "outputs": [
    {
     "data": {
      "text/plain": [
       "{'admin': ['192.168.7.171', ' 192.168.7.130'],\n",
       " 'recruiter': ['/cgi-bin/register.py', ' /cgi-bin/course.py'],\n",
       " 'student': ['register', 'info'],\n",
       " 'teacher': ['eval', ' course']}"
      ]
     },
     "execution_count": 297,
     "metadata": {},
     "output_type": "execute_result"
    }
   ],
   "source": [
    "# this block get label information from http request\n",
    "r = requests.get('http://192.168.7.143:8000/api/label/desc/')\n",
    "\n",
    "# Currently this is HARD CODED\n",
    "if read_label:\n",
    "    label_map = {}\n",
    "    for labeljson in r.json():\n",
    "        apps = labeljson['address'].split(',')\n",
    "        label_map[labeljson['roles']] = list(apps)\n",
    "    label_map\n",
    "label_map"
   ]
  },
  {
   "cell_type": "code",
   "execution_count": null,
   "metadata": {},
   "outputs": [],
   "source": [
    "for new_ddn in label_map.keys():\n",
    "    print(new_ddn)"
   ]
  },
  {
   "cell_type": "code",
   "execution_count": null,
   "metadata": {},
   "outputs": [],
   "source": [
    "def label_ddn_edge_from_app(cur_ddn, application):\n",
    "    for new_ddn in label_map.keys():\n",
    "        app_list = label_map[new_ddn]\n",
    "        if application in app_list:\n",
    "            return new_ddn\n",
    "    return cur_ddn\n",
    "label_ddn_edge_from_app_udf = udf(label_ddn_edge_from_app, StringType())"
   ]
  },
  {
   "cell_type": "code",
   "execution_count": null,
   "metadata": {},
   "outputs": [],
   "source": [
    "edges_labeled = edges.withColumn('ddn_id', \n",
    "                                 label_ddn_edge_from_app_udf('ddn_id', \n",
    "                                                             'application'))\n"
   ]
  },
  {
   "cell_type": "code",
   "execution_count": null,
   "metadata": {},
   "outputs": [],
   "source": [
    "app_node_labeled = app_node.drop('ddn_id')\\\n",
    "                           .join(edges_labeled, app_node.node_id == edges_labeled.from_id, 'left_outer')\\\n",
    "                           .select(node_schema)\n",
    "user_node_labeled = user_node.drop('ddn_id')\\\n",
    "                           .join(edges_labeled, user_node.node_id == edges_labeled.to_id, 'left_outer')\\\n",
    "                           .select(node_schema)\n",
    "db_node_labeled = db_node.drop('ddn_id')\\\n",
    "                           .join(edges_labeled, db_node.node_id == edges_labeled.to_id, 'left_outer')\\\n",
    "                           .select(node_schema)"
   ]
  },
  {
   "cell_type": "code",
   "execution_count": null,
   "metadata": {},
   "outputs": [],
   "source": [
    "node_labeled = app_node_labeled.union(user_node_labeled)\\\n",
    "                               .union(db_node_labeled)"
   ]
  },
  {
   "cell_type": "code",
   "execution_count": null,
   "metadata": {},
   "outputs": [],
   "source": [
    "edges.show()"
   ]
  },
  {
   "cell_type": "code",
   "execution_count": null,
   "metadata": {},
   "outputs": [],
   "source": []
  },
  {
   "cell_type": "code",
   "execution_count": null,
   "metadata": {},
   "outputs": [],
   "source": []
  }
 ],
 "metadata": {
  "kernelspec": {
   "display_name": "Python 3",
   "language": "python",
   "name": "python3"
  },
  "language_info": {
   "codemirror_mode": {
    "name": "ipython",
    "version": 3
   },
   "file_extension": ".py",
   "mimetype": "text/x-python",
   "name": "python",
   "nbconvert_exporter": "python",
   "pygments_lexer": "ipython3",
   "version": "3.6.3"
  }
 },
 "nbformat": 4,
 "nbformat_minor": 2
}
